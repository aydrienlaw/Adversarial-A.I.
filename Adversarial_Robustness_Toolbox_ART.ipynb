{
 "cells": [
  {
   "cell_type": "markdown",
   "id": "256084fa",
   "metadata": {},
   "source": [
    "Basic framework for to explore the effects of white-box evasion attacks on the MNIST/CIFAR-10 datasets. Metrics and defences are also explored, the latter mainly involving iamge preprocessing (i.e. input transformations) and adversarial training."
   ]
  },
  {
   "cell_type": "code",
   "execution_count": 1,
   "id": "5d608e9b",
   "metadata": {},
   "outputs": [],
   "source": [
    "import tensorflow as tf\n",
    "from tensorflow import keras\n",
    "from tensorflow.keras.models import Sequential\n",
    "from tensorflow.keras.layers import Dense, Flatten, Conv2D, MaxPooling2D, Activation, Dropout\n",
    "from tensorflow.keras.preprocessing.image import ImageDataGenerator\n",
    "import numpy as np\n",
    "\n",
    "from art.attacks.evasion import FastGradientMethod, DeepFool, ProjectedGradientDescent, SaliencyMapMethod, CarliniL2Method, NewtonFool\n",
    "from art.defences.preprocessor import TotalVarMin, SpatialSmoothing\n",
    "from art.defences.trainer import AdversarialTrainer\n",
    "from art.estimators.classification import KerasClassifier\n",
    "from art.metrics import empirical_robustness, clever_u\n",
    "from art.data_generators import KerasDataGenerator\n",
    "from art.utils import load_mnist, load_cifar10"
   ]
  },
  {
   "cell_type": "markdown",
   "id": "7dc077ab",
   "metadata": {},
   "source": [
    "Section 1 - Attacks"
   ]
  },
  {
   "cell_type": "markdown",
   "id": "012f0f0b",
   "metadata": {},
   "source": [
    "Modification: Disabling eager execution to enable Step 3"
   ]
  },
  {
   "cell_type": "code",
   "execution_count": 2,
   "id": "87648805",
   "metadata": {
    "scrolled": true
   },
   "outputs": [],
   "source": [
    "tf.compat.v1.disable_eager_execution()"
   ]
  },
  {
   "cell_type": "markdown",
   "id": "e58648ad",
   "metadata": {},
   "source": [
    "Step 1a: Load the MNIST dataset"
   ]
  },
  {
   "cell_type": "code",
   "execution_count": 4,
   "id": "2aa87dae",
   "metadata": {},
   "outputs": [],
   "source": [
    "#MNIST dataset\n",
    "(x_train, y_train), (x_test, y_test), min_pixel_value, max_pixel_value = load_mnist()\n",
    "#x_train, y_train = x_train[:5000], y_train[:5000]\n",
    "#x_test, y_test = x_test[:500], y_test[:500]"
   ]
  },
  {
   "cell_type": "markdown",
   "id": "413c21fd",
   "metadata": {},
   "source": [
    "Step 1b: Load the CIFAR-10 dataset"
   ]
  },
  {
   "cell_type": "code",
   "execution_count": null,
   "id": "e8b893a2",
   "metadata": {},
   "outputs": [],
   "source": [
    "# CIFAR-10 dataset\n",
    "# (x_train, y_train), (x_test, y_test), min_pixel_value, max_pixel_value = load_cifar10()\n",
    "# x_train, y_train = x_train[:5000], y_train[:5000]\n",
    "# x_test, y_test = x_test[:500], y_test[:500]"
   ]
  },
  {
   "cell_type": "markdown",
   "id": "070c4a58",
   "metadata": {},
   "source": [
    "Step 2: Create the model "
   ]
  },
  {
   "cell_type": "code",
   "execution_count": null,
   "id": "7d070df0",
   "metadata": {},
   "outputs": [],
   "source": [
    "# model = Sequential()\n",
    "# model.add(Conv2D(filters=4, kernel_size=(5, 5), strides=1, activation=\"relu\", input_shape=(28, 28, 1)))\n",
    "# model.add(MaxPooling2D(pool_size=(2, 2)))\n",
    "# model.add(Conv2D(filters=10, kernel_size=(5, 5), strides=1, activation=\"relu\", input_shape=(23, 23, 4)))\n",
    "# model.add(MaxPooling2D(pool_size=(2, 2)))\n",
    "# model.add(Flatten())\n",
    "# model.add(Dense(100, activation=\"relu\"))\n",
    "# model.add(Dense(10, activation=\"softmax\"))\n",
    "\n",
    "# model.compile(\n",
    "#     loss=keras.losses.categorical_crossentropy, optimizer=keras.optimizers.Adam(lr=0.01), metrics=[\"accuracy\"]\n",
    "# )"
   ]
  },
  {
   "cell_type": "code",
   "execution_count": null,
   "id": "cc0cb136",
   "metadata": {},
   "outputs": [],
   "source": [
    "# def build_model(input_shape=(32, 32, 3), nb_classes=10):\n",
    "#     img_input = Input(shape=input_shape)\n",
    "#     conv2d_1 = Conv2D(\n",
    "#         6,\n",
    "#         (5, 5),\n",
    "#         padding=\"valid\",\n",
    "#         kernel_regularizer=l2(0.0001),\n",
    "#         activation=\"relu\",\n",
    "#         kernel_initializer=\"he_normal\",\n",
    "#         input_shape=input_shape,\n",
    "#     )(img_input)\n",
    "#     conv2d_1_bn = BatchNormalization()(conv2d_1)\n",
    "#     conv2d_1_pool = MaxPooling2D((2, 2), strides=(2, 2))(conv2d_1_bn)\n",
    "#     conv2d_2 = Conv2D(16, (5, 5), padding=\"valid\", activation=\"relu\", kernel_initializer=\"he_normal\")(conv2d_1_pool)\n",
    "#     conv2d_2_pool = MaxPooling2D((2, 2), strides=(2, 2))(conv2d_2)\n",
    "#     flatten_1 = Flatten()(conv2d_2_pool)\n",
    "#     dense_1 = Dense(120, activation=\"relu\", kernel_initializer=\"he_normal\")(flatten_1)\n",
    "#     dense_2 = Dense(84, activation=\"relu\", kernel_initializer=\"he_normal\")(dense_1)\n",
    "#     img_output = Dense(nb_classes, activation=\"softmax\", kernel_initializer=\"he_normal\")(dense_2)\n",
    "#     model = Model(img_input, img_output)\n",
    "\n",
    "#     model.compile(\n",
    "#         loss=keras.losses.categorical_crossentropy, optimizer=keras.optimizers.Adam(lr=0.01), metrics=[\"accuracy\"]\n",
    "#     )\n",
    "\n",
    "#     return "
   ]
  },
  {
   "cell_type": "code",
   "execution_count": 5,
   "id": "01566e64",
   "metadata": {},
   "outputs": [],
   "source": [
    "model = Sequential()\n",
    "model.add(Conv2D(32, (3, 3), padding=\"same\", input_shape=x_train.shape[1:]))\n",
    "model.add(Activation(\"relu\"))\n",
    "model.add(Conv2D(32, (3, 3)))\n",
    "model.add(Activation(\"relu\"))\n",
    "model.add(MaxPooling2D(pool_size=(2, 2)))\n",
    "model.add(Dropout(0.25))\n",
    "\n",
    "model.add(Conv2D(64, (3, 3), padding=\"same\"))\n",
    "model.add(Activation(\"relu\"))\n",
    "model.add(Conv2D(64, (3, 3)))\n",
    "model.add(Activation(\"relu\"))\n",
    "model.add(MaxPooling2D(pool_size=(2, 2)))\n",
    "model.add(Dropout(0.25))\n",
    "\n",
    "model.add(Flatten())\n",
    "model.add(Dense(512))\n",
    "model.add(Activation(\"relu\"))\n",
    "model.add(Dropout(0.5))\n",
    "model.add(Dense(10))\n",
    "model.add(Activation(\"softmax\"))\n",
    "\n",
    "model.compile(loss=\"categorical_crossentropy\", optimizer=\"adam\", metrics=[\"accuracy\"])"
   ]
  },
  {
   "cell_type": "markdown",
   "id": "6015f97f",
   "metadata": {},
   "source": [
    "Step 3: Create the ART classifier"
   ]
  },
  {
   "cell_type": "code",
   "execution_count": 6,
   "id": "e8175b62",
   "metadata": {},
   "outputs": [],
   "source": [
    "classifier = KerasClassifier(model=model, clip_values=(min_pixel_value, max_pixel_value), use_logits=False)"
   ]
  },
  {
   "cell_type": "markdown",
   "id": "141f6bd9",
   "metadata": {},
   "source": [
    "Step 4: Train the ART classifier"
   ]
  },
  {
   "cell_type": "code",
   "execution_count": 7,
   "id": "55cabb29",
   "metadata": {},
   "outputs": [
    {
     "name": "stderr",
     "output_type": "stream",
     "text": [
      "/home/cyber/miniconda3/envs/tf-gpu/lib/python3.8/site-packages/tensorflow/python/keras/engine/training_v1.py:1240: UserWarning: `model.fit_generator` is deprecated and will be removed in a future version. Please use `Model.fit`, which supports generators.\n",
      "  warnings.warn('`model.fit_generator` is deprecated and '\n"
     ]
    },
    {
     "name": "stdout",
     "output_type": "stream",
     "text": [
      "Epoch 1/5\n",
      "937/937 [==============================] - 12s 8ms/step - batch: 468.0000 - size: 64.0000 - loss: 0.1664 - accuracy: 0.9454\n",
      "Epoch 2/5\n",
      "937/937 [==============================] - 8s 8ms/step - batch: 468.0000 - size: 64.0000 - loss: 0.0549 - accuracy: 0.9828\n",
      "Epoch 3/5\n",
      "937/937 [==============================] - 8s 8ms/step - batch: 468.0000 - size: 64.0000 - loss: 0.0411 - accuracy: 0.9870\n",
      "Epoch 4/5\n",
      "937/937 [==============================] - 8s 8ms/step - batch: 468.0000 - size: 64.0000 - loss: 0.0357 - accuracy: 0.9889\n",
      "Epoch 5/5\n",
      "937/937 [==============================] - 8s 8ms/step - batch: 468.0000 - size: 64.0000 - loss: 0.0305 - accuracy: 0.9902\n"
     ]
    }
   ],
   "source": [
    "classifier.fit(x_train, y_train, batch_size=64, nb_epochs=5)"
   ]
  },
  {
   "cell_type": "markdown",
   "id": "54ec9dd4",
   "metadata": {},
   "source": [
    "Step 5: Evaluate the ART classifier on benign test examples"
   ]
  },
  {
   "cell_type": "code",
   "execution_count": 8,
   "id": "1362d452",
   "metadata": {},
   "outputs": [
    {
     "name": "stderr",
     "output_type": "stream",
     "text": [
      "/home/cyber/miniconda3/envs/tf-gpu/lib/python3.8/site-packages/tensorflow/python/keras/engine/training.py:2325: UserWarning: `Model.state_updates` will be removed in a future version. This property should not be used in TensorFlow 2.0, as `updates` are applied automatically.\n",
      "  warnings.warn('`Model.state_updates` will be removed in a future version. '\n"
     ]
    },
    {
     "name": "stdout",
     "output_type": "stream",
     "text": [
      "Undefended classifier\n",
      "Accuracy on benign test examples: 99.24%\n"
     ]
    }
   ],
   "source": [
    "predictions = classifier.predict(x_test)\n",
    "accuracy = np.sum(np.argmax(predictions, axis=1) == np.argmax(y_test, axis=1)) / len(y_test)\n",
    "print(\"Undefended classifier\")\n",
    "print(\"Accuracy on benign test examples: {}%\".format(accuracy * 100))"
   ]
  },
  {
   "cell_type": "markdown",
   "id": "334b91dd",
   "metadata": {},
   "source": [
    "Step 6: Craft adversarial examples"
   ]
  },
  {
   "cell_type": "code",
   "execution_count": 9,
   "id": "96d69560",
   "metadata": {},
   "outputs": [
    {
     "data": {
      "application/vnd.jupyter.widget-view+json": {
       "model_id": "efce82630931445f8a61072d6f54fa95",
       "version_major": 2,
       "version_minor": 0
      },
      "text/plain": [
       "JSMA:   0%|          | 0/10000 [00:00<?, ?it/s]"
      ]
     },
     "metadata": {},
     "output_type": "display_data"
    }
   ],
   "source": [
    "adv_crafter = SaliencyMapMethod(classifier=classifier, theta = 1, verbose=True)\n",
    "#adv_crafter = ProjectedGradientDescent(classifier, eps=0.2)\n",
    "#adv_crafter = FastGradientMethod(estimator=classifier, eps=0.3)\n",
    "#adv_crafter = DeepFool(classifier=classifier, epsilon=0.2)\n",
    "#adv_crafter = NewtonFool(classifier=classifier, verbose=True)\n",
    "#adv_crafter = CarliniL2Method(classifier=classifier, verbose=True)\n",
    "\n",
    "#x_train_adv = adv_crafter.generate(x_train)\n",
    "x_test_adv = adv_crafter.generate(x_test)\n"
   ]
  },
  {
   "cell_type": "markdown",
   "id": "d1ce3b44",
   "metadata": {},
   "source": [
    "Additional step: Plot images and their adversarial counterparts for reference"
   ]
  },
  {
   "cell_type": "code",
   "execution_count": 10,
   "id": "9fb593b7",
   "metadata": {},
   "outputs": [
    {
     "data": {
      "image/png": "[encoded data removed]",
      "text/plain": [
       "<Figure size 720x720 with 20 Axes>"
      ]
     },
     "metadata": {
      "needs_background": "light"
     },
     "output_type": "display_data"
    }
   ],
   "source": [
    "import matplotlib.pyplot as plt\n",
    "\n",
    "num = 10\n",
    "images = x_train[:num]\n",
    "adv_examples = x_test_adv[:num]\n",
    "#labels = y_train[:num]\n",
    "\n",
    "#plot images\n",
    "plt.figure(figsize=(10, 10))\n",
    "\n",
    "for i in range(num):\n",
    "    ax = plt.subplot(4, 5, i + 1)\n",
    "    plt.imshow(images[i], cmap='gray')\n",
    "    plt.axis(\"off\")\n",
    "    ax = plt.subplot(4, 5, i + 11)\n",
    "    plt.imshow(adv_examples[i], cmap='gray')\n",
    "    plt.axis(\"off\")\n",
    "    \n",
    "    #plt.title('Label: {:}'.format(labels[i]))\n",
    "    #ax.set_title('Label: {}'.format(labels[i]))\n",
    "    \n",
    "plt.tight_layout()\n",
    "plt.show()"
   ]
  },
  {
   "cell_type": "markdown",
   "id": "b93f4a5f",
   "metadata": {},
   "source": [
    "Step 7: Evaluate the ART classifier on the adversarial test set"
   ]
  },
  {
   "cell_type": "code",
   "execution_count": 11,
   "id": "ee462839",
   "metadata": {},
   "outputs": [
    {
     "name": "stdout",
     "output_type": "stream",
     "text": [
      "Undefended classifier\n",
      "Accuracy on adversarial test examples: 0.19%\n"
     ]
    }
   ],
   "source": [
    "predictions = classifier.predict(x_test_adv)\n",
    "accuracy = np.sum(np.argmax(predictions, axis=1) == np.argmax(y_test, axis=1)) / len(y_test)\n",
    "print(\"Undefended classifier\")\n",
    "print(\"Accuracy on adversarial test examples: {}%\".format(accuracy * 100))"
   ]
  },
  {
   "cell_type": "markdown",
   "id": "ed6edf76",
   "metadata": {},
   "source": [
    "Section 2 - Metrics"
   ]
  },
  {
   "cell_type": "markdown",
   "id": "ed8079bc",
   "metadata": {},
   "source": [
    "Metric 1: Empirical Robustness"
   ]
  },
  {
   "cell_type": "code",
   "execution_count": 40,
   "id": "8be695d3",
   "metadata": {},
   "outputs": [
    {
     "name": "stdout",
     "output_type": "stream",
     "text": [
      "Empirical robustness of the classifier against fgsm: 0.17202728105614684\n"
     ]
    }
   ],
   "source": [
    "attack_name = \"fgsm\"\n",
    "score = empirical_robustness(classifier=classifier, x=x_test, attack_name=attack_name)\n",
    "print(\"Empirical robustness of the classifier against {}: {}\".format(attack_name, score))"
   ]
  },
  {
   "cell_type": "markdown",
   "id": "0a8461bb",
   "metadata": {},
   "source": [
    "Metric 2: CLEVER"
   ]
  },
  {
   "cell_type": "code",
   "execution_count": 47,
   "id": "65095118",
   "metadata": {},
   "outputs": [
    {
     "data": {
      "application/vnd.jupyter.widget-view+json": {
       "model_id": "86fd83b3ad2a4673af80450de48f3d39",
       "version_major": 2,
       "version_minor": 0
      },
      "text/plain": [
       "CLEVER untargeted:   0%|          | 0/9 [00:00<?, ?it/s]"
      ]
     },
     "metadata": {},
     "output_type": "display_data"
    },
    {
     "name": "stdout",
     "output_type": "stream",
     "text": [
      "CLEVER score of the classifier against an untargeted attack: 0.1\n"
     ]
    }
   ],
   "source": [
    "score = clever_u(classifier=classifier, x=x_test[1], nb_batches=5, batch_size=64, radius=0.1,norm=np.inf)\n",
    "print(\"CLEVER score of the classifier against an untargeted attack: {}\".format(score))"
   ]
  },
  {
   "cell_type": "markdown",
   "id": "0a800d61",
   "metadata": {},
   "source": [
    "Section 3 - Defence"
   ]
  },
  {
   "cell_type": "markdown",
   "id": "d8d97aeb",
   "metadata": {},
   "source": [
    "Defence 1: Preprocessing"
   ]
  },
  {
   "cell_type": "markdown",
   "id": "534f8fb1",
   "metadata": {},
   "source": [
    "Step 1: Input transformation"
   ]
  },
  {
   "cell_type": "code",
   "execution_count": null,
   "id": "737293cc",
   "metadata": {},
   "outputs": [],
   "source": [
    "defence = TotalVarMin(verbose = True)\n",
    "#defence = SpatialSmoothing(window_size=5)\n",
    "\n",
    "x_test_adv = defence(x_test_adv * 255)[0] / 255\n",
    "\n",
    "#what does * 255)[0] / 255 do?"
   ]
  },
  {
   "cell_type": "markdown",
   "id": "bd8236f2",
   "metadata": {},
   "source": [
    "Additional step: Plot transformed adversarial examples for visualization"
   ]
  },
  {
   "cell_type": "code",
   "execution_count": null,
   "id": "b7ee10bb",
   "metadata": {},
   "outputs": [],
   "source": [
    "num = 10\n",
    "transformed_adv_examples = x_test_adv[:num]\n",
    "#labels = y_train[:num]\n",
    "\n",
    "#plot images\n",
    "plt.figure(figsize=(10, 10))\n",
    "\n",
    "for i in range(num):\n",
    "    ax = plt.subplot(2, 5, i + 1)\n",
    "    plt.imshow(transformed_adv_examples[i], cmap='gray')\n",
    "    plt.axis(\"off\")\n",
    "    \n",
    "    #plt.title('Label: {:}'.format(labels[i]))\n",
    "    #ax.set_title('Label: {}'.format(labels[i]))\n",
    "    \n",
    "plt.tight_layout()\n",
    "plt.show()"
   ]
  },
  {
   "cell_type": "markdown",
   "id": "4ddddb87",
   "metadata": {},
   "source": [
    "Defence 2: Adversarial Training"
   ]
  },
  {
   "cell_type": "markdown",
   "id": "e18a07c3",
   "metadata": {},
   "source": [
    "Adversarial Training: Method 1 - Data Generators"
   ]
  },
  {
   "cell_type": "markdown",
   "id": "4fa876a9",
   "metadata": {},
   "source": [
    "Step 1: Build a Keras image augmentation object and wrap it in ART"
   ]
  },
  {
   "cell_type": "code",
   "execution_count": null,
   "id": "fb8c53f8",
   "metadata": {},
   "outputs": [],
   "source": [
    "batch_size = 50\n",
    "\n",
    "datagen = ImageDataGenerator(\n",
    "    horizontal_flip=True, width_shift_range=0.125, height_shift_range=0.125, fill_mode=\"constant\", cval=0.0\n",
    ")\n",
    "datagen.fit(x_train)\n",
    "art_datagen = KerasDataGenerator(\n",
    "    datagen.flow(x=x_train, y=y_train, batch_size=batch_size, shuffle=True),\n",
    "    size=x_train.shape[0],\n",
    "    batch_size=batch_size,\n",
    ")"
   ]
  },
  {
   "cell_type": "markdown",
   "id": "fc317b32",
   "metadata": {},
   "source": [
    "Step 2: Create adversarial trainer"
   ]
  },
  {
   "cell_type": "code",
   "execution_count": null,
   "id": "f42a025e",
   "metadata": {},
   "outputs": [],
   "source": [
    "adv_trainer = AdversarialTrainer(classifier, attacks=adv_crafter, ratio=1.0)"
   ]
  },
  {
   "cell_type": "markdown",
   "id": "d7d22da0",
   "metadata": {},
   "source": [
    "Step 3: Perform adversarial training"
   ]
  },
  {
   "cell_type": "code",
   "execution_count": null,
   "id": "f9b84fcb",
   "metadata": {},
   "outputs": [],
   "source": [
    "adv_trainer.fit_generator(art_datagen, nb_epochs=5)"
   ]
  },
  {
   "cell_type": "markdown",
   "id": "b962e927",
   "metadata": {},
   "source": [
    "Adversarial Training: Method 2 - Augmented Training Set"
   ]
  },
  {
   "cell_type": "markdown",
   "id": "65d31657",
   "metadata": {},
   "source": [
    "Step 1: Data augmentation: expand the training set with the adversarial examples"
   ]
  },
  {
   "cell_type": "code",
   "execution_count": null,
   "id": "3a1e1f37",
   "metadata": {},
   "outputs": [],
   "source": [
    "x_train = np.append(x_train, x_train_adv, axis=0)\n",
    "y_train = np.append(y_train, y_train, axis=0)"
   ]
  },
  {
   "cell_type": "markdown",
   "id": "16e8eebe",
   "metadata": {},
   "source": [
    "Step 2: Retrain the model on the extended dataset"
   ]
  },
  {
   "cell_type": "code",
   "execution_count": null,
   "id": "7927a906",
   "metadata": {},
   "outputs": [],
   "source": [
    "model.compile(loss=\"categorical_crossentropy\", optimizer=\"adam\", metrics=[\"accuracy\"])\n",
    "classifier.fit(x_train, y_train, batch_size=64, nb_epochs=5)"
   ]
  },
  {
   "cell_type": "markdown",
   "id": "c5ce2574",
   "metadata": {},
   "source": [
    "Defence: Evaluation of effectiveness"
   ]
  },
  {
   "cell_type": "markdown",
   "id": "cb14e994",
   "metadata": {},
   "source": [
    "Step 1: Evaluate the adversarially trained model on the clean test set"
   ]
  },
  {
   "cell_type": "code",
   "execution_count": null,
   "id": "9e881ef8",
   "metadata": {},
   "outputs": [],
   "source": [
    "predictions = classifier.predict(x_test)\n",
    "accuracy = np.sum(np.argmax(predictions, axis=1) == np.argmax(y_test, axis=1)) / len(y_test)\n",
    "print(\"Defended classifier\")\n",
    "print(\"Accuracy on benign test examples: {}%\".format(accuracy * 100))"
   ]
  },
  {
   "cell_type": "markdown",
   "id": "a5a4f471",
   "metadata": {},
   "source": [
    "Step 2: Evaluate the adversarially trained model on the original adversarial test set"
   ]
  },
  {
   "cell_type": "code",
   "execution_count": null,
   "id": "a12e9411",
   "metadata": {},
   "outputs": [],
   "source": [
    "predictions = classifier.predict(x_test_adv)\n",
    "accuracy = np.sum(np.argmax(predictions, axis=1) == np.argmax(y_test, axis=1)) / len(y_test)\n",
    "print(\"Defended classifier\")\n",
    "print(\"Accuracy on original adversarial test examples: {}%\".format(accuracy * 100))"
   ]
  },
  {
   "cell_type": "markdown",
   "id": "21c139ca",
   "metadata": {},
   "source": [
    "Step 3: Evaluate the adversarially trained model on new adversarial examples produced on the adversarially trained model"
   ]
  },
  {
   "cell_type": "code",
   "execution_count": null,
   "id": "c9332e0a",
   "metadata": {},
   "outputs": [],
   "source": [
    "x_test_adv = adv_crafter.generate(x_test)\n",
    "\n",
    "#Following code is for when a preprocessing defence is used\n",
    "#x_test_adv = defence(x_test_adv * 255)[0] / 255\n",
    "\n",
    "predictions = classifier.predict(x_test_adv)\n",
    "accuracy = np.sum(np.argmax(predictions, axis=1) == np.argmax(y_test, axis=1)) / len(y_test)\n",
    "print(\"Defended classifier\")\n",
    "print(\"Accuracy on new adversarial test examples: {}%\".format(accuracy * 100))"
   ]
  }
 ],
 "metadata": {
  "kernelspec": {
   "display_name": "tf-gpu",
   "language": "python",
   "name": "tf-gpu"
  },
  "language_info": {
   "codemirror_mode": {
    "name": "ipython",
    "version": 3
   },
   "file_extension": ".py",
   "mimetype": "text/x-python",
   "name": "python",
   "nbconvert_exporter": "python",
   "pygments_lexer": "ipython3",
   "version": "3.8.8"
  }
 },
 "nbformat": 4,
 "nbformat_minor": 5
}

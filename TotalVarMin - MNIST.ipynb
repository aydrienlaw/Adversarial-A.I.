{
 "cells": [
  {
   "cell_type": "markdown",
   "id": "256084fa",
   "metadata": {},
   "source": [
    "**This notebook focuses on the effectiveness of Total Variance Minimization against adversarial attacks on the MNIST dataset.**"
   ]
  },
  {
   "cell_type": "markdown",
   "id": "929cdf42",
   "metadata": {},
   "source": [
    "## **Section 0 - Setting Up**"
   ]
  },
  {
   "cell_type": "markdown",
   "id": "33dbf7b5",
   "metadata": {},
   "source": [
    "### **Load prerequisites**"
   ]
  },
  {
   "cell_type": "code",
   "execution_count": 1,
   "id": "5d608e9b",
   "metadata": {},
   "outputs": [],
   "source": [
    "import tensorflow as tf\n",
    "from tensorflow import keras\n",
    "from tensorflow.keras.models import Sequential, load_model\n",
    "from tensorflow.keras.layers import Dense, Flatten, Conv2D, MaxPooling2D, Activation, Dropout, Layer\n",
    "\n",
    "import numpy as np\n",
    "import pandas as pd\n",
    "import matplotlib.pyplot as plt\n",
    "\n",
    "\n",
    "from art import config\n",
    "from art.attacks.evasion import FastGradientMethod, DeepFool, ProjectedGradientDescent, SaliencyMapMethod, CarliniL2Method, NewtonFool, BasicIterativeMethod\n",
    "from art.defences.preprocessor import TotalVarMin\n",
    "from art.defences.trainer import AdversarialTrainer\n",
    "from art.estimators.classification import KerasClassifier\n",
    "from art.utils import load_mnist"
   ]
  },
  {
   "cell_type": "markdown",
   "id": "012f0f0b",
   "metadata": {},
   "source": [
    "### **Disable eager execution to enable adversarial crafting and ART classifier**"
   ]
  },
  {
   "cell_type": "code",
   "execution_count": 2,
   "id": "87648805",
   "metadata": {
    "scrolled": true
   },
   "outputs": [],
   "source": [
    "tf.compat.v1.disable_eager_execution()"
   ]
  },
  {
   "cell_type": "markdown",
   "id": "e58648ad",
   "metadata": {},
   "source": [
    "### **Load MNIST dataset**"
   ]
  },
  {
   "cell_type": "code",
   "execution_count": 3,
   "id": "2aa87dae",
   "metadata": {},
   "outputs": [],
   "source": [
    "(x_train_cln, y_train_cln), (x_test_cln, y_test_cln), min_pixel_value, max_pixel_value = load_mnist()\n",
    "# x_test_cln, y_test_cln = x_test_cln[:50], y_test_cln[:50]"
   ]
  },
  {
   "cell_type": "markdown",
   "id": "070c4a58",
   "metadata": {},
   "source": [
    "### **Create MNIST classifier model**"
   ]
  },
  {
   "cell_type": "markdown",
   "id": "49c095be",
   "metadata": {},
   "source": [
    "*Load MNIST pre-trained model*"
   ]
  },
  {
   "cell_type": "code",
   "execution_count": 4,
   "id": "e8ddd668",
   "metadata": {},
   "outputs": [],
   "source": [
    "model = load_model(\"/home/cyber/mnist_trained_model.h5\")"
   ]
  },
  {
   "cell_type": "markdown",
   "id": "d4e2df92",
   "metadata": {},
   "source": [
    "*Create ART classifier*"
   ]
  },
  {
   "cell_type": "code",
   "execution_count": 5,
   "id": "d4d04446",
   "metadata": {},
   "outputs": [],
   "source": [
    "classifier = KerasClassifier(model=model, clip_values=(min_pixel_value, max_pixel_value), use_logits=False)"
   ]
  },
  {
   "cell_type": "markdown",
   "id": "7dc077ab",
   "metadata": {},
   "source": [
    "## **Section 1 - Attack**"
   ]
  },
  {
   "cell_type": "markdown",
   "id": "54ec9dd4",
   "metadata": {},
   "source": [
    "Step 1: Evaluate the classifier on the clean test set"
   ]
  },
  {
   "cell_type": "code",
   "execution_count": 6,
   "id": "1362d452",
   "metadata": {},
   "outputs": [
    {
     "name": "stderr",
     "output_type": "stream",
     "text": [
      "/home/cyber/miniconda3/envs/tf-gpu/lib/python3.8/site-packages/tensorflow/python/keras/engine/training.py:2325: UserWarning: `Model.state_updates` will be removed in a future version. This property should not be used in TensorFlow 2.0, as `updates` are applied automatically.\n",
      "  warnings.warn('`Model.state_updates` will be removed in a future version. '\n"
     ]
    },
    {
     "name": "stdout",
     "output_type": "stream",
     "text": [
      "Accuracy on clean test examples: 99.11%\n"
     ]
    }
   ],
   "source": [
    "predictions_cln = classifier.predict(x_test_cln)\n",
    "accuracy_cln = np.sum(np.argmax(predictions_cln, axis=1) == np.argmax(y_test_cln, axis=1)) / len(y_test_cln)\n",
    "\n",
    "print(\"Accuracy on clean test examples: {}%\".format(accuracy_cln * 100))"
   ]
  },
  {
   "cell_type": "markdown",
   "id": "11ac38ca",
   "metadata": {},
   "source": [
    "Step 2: Split clean test examples into true and false positives"
   ]
  },
  {
   "cell_type": "code",
   "execution_count": 7,
   "id": "7909c97f",
   "metadata": {
    "scrolled": true
   },
   "outputs": [
    {
     "name": "stdout",
     "output_type": "stream",
     "text": [
      "Number of clean true positives: 9911\n",
      "Number of clean false positives: 89\n"
     ]
    }
   ],
   "source": [
    "tp_cln_indexes=[]\n",
    "fp_cln_indexes=[]\n",
    "x_test_cln_tp=[]\n",
    "y_test_cln_tp=[]\n",
    "x_test_cln_fp=[]\n",
    "y_test_cln_fp=[]\n",
    "\n",
    "for k in range(len(predictions_cln)):\n",
    "    if(np.argmax(predictions_cln, axis=1)[k] == np.argmax(y_test_cln, axis=1)[k]):\n",
    "        tp_cln_indexes.append(k)\n",
    "    else:\n",
    "        fp_cln_indexes.append(k)\n",
    "\n",
    "for k in tp_cln_indexes:\n",
    "    x_test_cln_tp.append(x_test_cln[k])\n",
    "    y_test_cln_tp.append(y_test_cln[k])\n",
    "    \n",
    "for k in fp_cln_indexes:\n",
    "    x_test_cln_fp.append(x_test_cln[k])\n",
    "    y_test_cln_fp.append(y_test_cln[k])\n",
    "    \n",
    "x_test_cln_tp = np.array(x_test_cln_tp)\n",
    "x_test_cln_fp = np.array(x_test_cln_fp)\n",
    "\n",
    "print('Number of clean true positives: {:}'.format(len(x_test_cln_tp)))\n",
    "print('Number of clean false positives: {:}'.format(len(x_test_cln_fp)))"
   ]
  },
  {
   "cell_type": "markdown",
   "id": "334b91dd",
   "metadata": {},
   "source": [
    "Step 3: Craft adversarial examples"
   ]
  },
  {
   "cell_type": "markdown",
   "id": "b2e07528",
   "metadata": {},
   "source": [
    "*Craft Jacobian-based Saliency Map Attack (JSMA) attacks*"
   ]
  },
  {
   "cell_type": "code",
   "execution_count": 8,
   "id": "31c7c95d",
   "metadata": {},
   "outputs": [],
   "source": [
    "# attack = SaliencyMapMethod(classifier=classifier, theta = 0.1, gamma=0.3, verbose=True)\n",
    "# x_test_JSMA_MNIST = attack.generate(x_test_cln)\n",
    "# %store x_test_JSMA_MNIST"
   ]
  },
  {
   "cell_type": "markdown",
   "id": "2d730b68",
   "metadata": {},
   "source": [
    "*Craft Basic Iterative Method (BMI) attacks*"
   ]
  },
  {
   "cell_type": "code",
   "execution_count": 9,
   "id": "2402ba73",
   "metadata": {},
   "outputs": [],
   "source": [
    "# attack = BasicIterativeMethod(classifier, eps=0.3, eps_step=0.1, max_iter=50)\n",
    "# x_test_BIM_MNIST = attack.generate(x_test_cln)\n",
    "# %store x_test_BIM_MNSIT"
   ]
  },
  {
   "cell_type": "markdown",
   "id": "76558c01",
   "metadata": {},
   "source": [
    "*Craft Projected Gradient Descent (PGD) attacks*"
   ]
  },
  {
   "cell_type": "code",
   "execution_count": 10,
   "id": "e1e87484",
   "metadata": {},
   "outputs": [],
   "source": [
    "# attack = ProjectedGradientDescent(classifier, eps=0.3, eps_step=0.1, max_iter=100)\n",
    "# x_test_PGD_MNIST = attack.generate(x_test_cln)\n",
    "# %store x_test_PGD_MNIST"
   ]
  },
  {
   "cell_type": "markdown",
   "id": "7ad2f431",
   "metadata": {},
   "source": [
    "*Craft NewtonFool attacks*"
   ]
  },
  {
   "cell_type": "code",
   "execution_count": 11,
   "id": "cea66ed5",
   "metadata": {},
   "outputs": [],
   "source": [
    "# attack =  NewtonFool(classifier=classifier, eta=0.3, max_iter=100, verbose=True)\n",
    "# x_test_Newton_MNIST = attack.generate(x_test_cln)\n",
    "# %store x_test_Newton_MNIST"
   ]
  },
  {
   "cell_type": "markdown",
   "id": "99a5111d",
   "metadata": {},
   "source": [
    "*Craft DeepFool attacks*"
   ]
  },
  {
   "cell_type": "code",
   "execution_count": 12,
   "id": "a661b151",
   "metadata": {},
   "outputs": [],
   "source": [
    "# attack = DeepFool(classifier=classifier, epsilon=1e-06, max_iter=100)\n",
    "# x_test_Deep_MNIST = attack.generate(x_test_cln)\n",
    "# %store x_test_Deep_MNIST"
   ]
  },
  {
   "cell_type": "markdown",
   "id": "a02f9891",
   "metadata": {},
   "source": [
    "*Alternatively, load existing adversarial attacks*"
   ]
  },
  {
   "cell_type": "code",
   "execution_count": 59,
   "id": "4d6ff9d2",
   "metadata": {},
   "outputs": [],
   "source": [
    "attack_name = 'DeepFool'\n",
    "%store -r x_test_Deep_MNIST\n",
    "x_test_adv = x_test_Deep_MNIST"
   ]
  },
  {
   "cell_type": "markdown",
   "id": "b93f4a5f",
   "metadata": {},
   "source": [
    "Step 4: Evaluate the classifier on the adversarial test set"
   ]
  },
  {
   "cell_type": "code",
   "execution_count": 60,
   "id": "ee462839",
   "metadata": {},
   "outputs": [
    {
     "name": "stdout",
     "output_type": "stream",
     "text": [
      "Accuracy on adversarial test examples: 6.61%\n"
     ]
    }
   ],
   "source": [
    "predictions_adv = classifier.predict(x_test_adv)\n",
    "accuracy_adv = np.sum(np.argmax(predictions_adv, axis=1) == np.argmax(y_test_cln, axis=1)) / len(y_test_cln)\n",
    "\n",
    "print(\"Accuracy on adversarial test examples: {}%\".format(accuracy_adv * 100))"
   ]
  },
  {
   "cell_type": "markdown",
   "id": "602e6a1c",
   "metadata": {},
   "source": [
    "Step 5: Split the adversarial test examples into true and false positives"
   ]
  },
  {
   "cell_type": "code",
   "execution_count": 61,
   "id": "214595e4",
   "metadata": {},
   "outputs": [
    {
     "name": "stdout",
     "output_type": "stream",
     "text": [
      "Adversarial TP: 661\n",
      "Adversarial FP: 9339\n"
     ]
    }
   ],
   "source": [
    "tp_adv_indexes=[]\n",
    "fp_adv_indexes=[]\n",
    "x_test_adv_tp=[]\n",
    "y_test_adv_tp=[]\n",
    "x_test_adv_fp=[]\n",
    "y_test_adv_fp=[]\n",
    "\n",
    "for k in range(len(predictions_adv)):\n",
    "    if(np.argmax(predictions_adv, axis=1)[k] == np.argmax(y_test_cln, axis=1)[k]):\n",
    "        tp_adv_indexes.append(k)\n",
    "    else:\n",
    "        fp_adv_indexes.append(k)\n",
    "\n",
    "for k in tp_adv_indexes:\n",
    "    x_test_adv_tp.append(x_test_adv[k])\n",
    "    y_test_adv_tp.append(y_test_cln[k])\n",
    "    \n",
    "for k in fp_adv_indexes:\n",
    "    x_test_adv_fp.append(x_test_adv[k])\n",
    "    y_test_adv_fp.append(y_test_cln[k])\n",
    "    \n",
    "x_test_adv_tp = np.array(x_test_adv_tp)\n",
    "x_test_adv_fp = np.array(x_test_adv_fp)\n",
    "\n",
    "print('Adversarial TP: {:}'.format(len(x_test_adv_tp)))\n",
    "print('Adversarial FP: {:}'.format(len(x_test_adv_fp)))"
   ]
  },
  {
   "cell_type": "markdown",
   "id": "d1ce3b44",
   "metadata": {},
   "source": [
    "Step 6: Plot clean test examples and their adversarial counterparts"
   ]
  },
  {
   "cell_type": "code",
   "execution_count": 62,
   "id": "9fb593b7",
   "metadata": {},
   "outputs": [
    {
     "data": {
      "image/png": "[encoded data removed]",
      "text/plain": [
       "<Figure size 720x720 with 20 Axes>"
      ]
     },
     "metadata": {
      "needs_background": "light"
     },
     "output_type": "display_data"
    }
   ],
   "source": [
    "# Plot images\n",
    "plt.figure(figsize=(10, 10))\n",
    "\n",
    "for i in range(10):\n",
    "    ax = plt.subplot(4, 5, i + 1)\n",
    "    plt.imshow(x_test_cln[i], cmap='gray')\n",
    "    ax.set_title('{:}'.format(np.argmax(y_test_cln,axis=1)[i]))\n",
    "    plt.axis(\"off\")\n",
    "    \n",
    "    ax = plt.subplot(4, 5, i + 11)\n",
    "    plt.imshow(x_test_adv[i], cmap='gray')\n",
    "    ax.set_title('{:}'.format(np.argmax(predictions_adv,axis=1)[i]))\n",
    "    plt.axis(\"off\")\n",
    "    \n",
    "plt.tight_layout()\n",
    "plt.show()"
   ]
  },
  {
   "cell_type": "markdown",
   "id": "0a800d61",
   "metadata": {},
   "source": [
    "## **Section 2 - Defence**"
   ]
  },
  {
   "cell_type": "markdown",
   "id": "d8d97aeb",
   "metadata": {},
   "source": [
    "### **Total Variance Minimization**"
   ]
  },
  {
   "cell_type": "markdown",
   "id": "534f8fb1",
   "metadata": {},
   "source": [
    "Step 1: Transform input"
   ]
  },
  {
   "cell_type": "code",
   "execution_count": 63,
   "id": "0a341117",
   "metadata": {},
   "outputs": [],
   "source": [
    "defence = TotalVarMin(lamb=0.1, verbose=True)"
   ]
  },
  {
   "cell_type": "code",
   "execution_count": 64,
   "id": "737293cc",
   "metadata": {
    "scrolled": true
   },
   "outputs": [
    {
     "data": {
      "application/vnd.jupyter.widget-view+json": {
       "model_id": "cf8c7b3eb2744c67936667e104b3c649",
       "version_major": 2,
       "version_minor": 0
      },
      "text/plain": [
       "Variance minimization:   0%|          | 0/9911 [00:00<?, ?it/s]"
      ]
     },
     "metadata": {},
     "output_type": "display_data"
    },
    {
     "data": {
      "application/vnd.jupyter.widget-view+json": {
       "model_id": "b7ad3d9c69bb4eec884fd5a2708a563c",
       "version_major": 2,
       "version_minor": 0
      },
      "text/plain": [
       "Variance minimization:   0%|          | 0/89 [00:00<?, ?it/s]"
      ]
     },
     "metadata": {},
     "output_type": "display_data"
    }
   ],
   "source": [
    "x_test_cln_tp_tvm = defence(x_test_cln_tp * 255)[0] / 255\n",
    "x_test_cln_fp_tvm = defence(x_test_cln_fp * 255)[0] / 255\n",
    "x_test_cln_tvm = np.concatenate((x_test_cln_tp_tvm, x_test_cln_fp_tvm), axis=0)\n",
    "y_test_cln_tvm = y_test_cln_tp + y_test_cln_fp"
   ]
  },
  {
   "cell_type": "code",
   "execution_count": 65,
   "id": "d6e639f9",
   "metadata": {},
   "outputs": [
    {
     "data": {
      "application/vnd.jupyter.widget-view+json": {
       "model_id": "2da034000dba456986e940f47ee2305e",
       "version_major": 2,
       "version_minor": 0
      },
      "text/plain": [
       "Variance minimization:   0%|          | 0/661 [00:00<?, ?it/s]"
      ]
     },
     "metadata": {},
     "output_type": "display_data"
    },
    {
     "data": {
      "application/vnd.jupyter.widget-view+json": {
       "model_id": "9a4e545998a847be92368cb2e7548035",
       "version_major": 2,
       "version_minor": 0
      },
      "text/plain": [
       "Variance minimization:   0%|          | 0/9339 [00:00<?, ?it/s]"
      ]
     },
     "metadata": {},
     "output_type": "display_data"
    }
   ],
   "source": [
    "x_test_adv_tp_tvm = defence(x_test_adv_tp*255)[0]/255 \n",
    "x_test_adv_fp_tvm = defence(x_test_adv_fp*255)[0]/255\n",
    "x_test_adv_tvm = np.concatenate((x_test_adv_tp_tvm, x_test_adv_fp_tvm), axis=0)\n",
    "y_test_adv_tvm = y_test_adv_tp + y_test_adv_fp"
   ]
  },
  {
   "cell_type": "markdown",
   "id": "33b9f6b8",
   "metadata": {},
   "source": [
    "Step 2: Evaluate the classifier on all 4 sets of data after TotalVarMin"
   ]
  },
  {
   "cell_type": "code",
   "execution_count": 66,
   "id": "b57ab56c",
   "metadata": {
    "scrolled": false
   },
   "outputs": [
    {
     "name": "stdout",
     "output_type": "stream",
     "text": [
      "Effect of TotalVarMin on entire clean test set: -2.59%\n",
      "\n",
      "Accuracy drop on true positive clean test examples after TotalVarMin: 2.82%\n",
      "\n",
      "Accuracy increase on false positive clean test examples after TotalVarMin: 22.47%\n",
      "\n",
      "Effect of TotalVarMin on entire adversarial test set: 9.61%\n",
      "\n",
      "Accuracy drop on true positive adversarial test examples after TotalVarMin: 58.85%\n",
      "\n",
      "Accuracy increase on false positive adversarial test examples after TotalVarMin: 14.46%\n"
     ]
    }
   ],
   "source": [
    "predictions_cln_tvm = classifier.predict(x_test_cln_tvm)\n",
    "accuracy_cln_tvm = np.sum(np.argmax(predictions_cln_tvm, axis=1) == np.argmax(y_test_cln_tvm, axis=1)) / len(y_test_cln_tvm)\n",
    "\n",
    "print(\"Effect of TotalVarMin on entire clean test set: {:.2f}%\".format((accuracy_cln_tvm - accuracy_cln) * 100))\n",
    " \n",
    "predictions_cln_tp_tvm = classifier.predict(x_test_cln_tp_tvm)\n",
    "accuracy_cln_tp_tvm = np.sum(np.argmax(predictions_cln_tp_tvm, axis=1) == np.argmax(y_test_cln_tp, axis=1)) / len(y_test_cln_tp)\n",
    "\n",
    "# print(\"\\nAccuracy on true positive clean test examples after TotalVarMin: {:.2f}%\".format(accuracy_cln_tp_tvm * 100))\n",
    "print(\"\\nAccuracy drop on true positive clean test examples after TotalVarMin: {:.2f}%\".format((1 - accuracy_cln_tp_tvm) * 100))\n",
    "\n",
    "predictions_cln_fp_tvm = classifier.predict(x_test_cln_fp_tvm)\n",
    "accuracy_cln_fp_tvm = np.sum(np.argmax(predictions_cln_fp_tvm, axis=1) == np.argmax(y_test_cln_fp, axis=1)) / len(y_test_cln_fp)\n",
    "\n",
    "print(\"\\nAccuracy increase on false positive clean test examples after TotalVarMin: {:.2f}%\".format(accuracy_cln_fp_tvm * 100))\n",
    "\n",
    "predictions_adv_tvm = classifier.predict(x_test_adv_tvm)\n",
    "accuracy_adv_tvm = np.sum(np.argmax(predictions_adv_tvm, axis=1) == np.argmax(y_test_adv_tvm, axis=1)) / len(y_test_adv_tvm)\n",
    "\n",
    "print(\"\\nEffect of TotalVarMin on entire adversarial test set: {:.2f}%\".format((accuracy_adv_tvm-accuracy_adv) * 100))\n",
    "\n",
    "predictions_adv_tp_tvm = classifier.predict(x_test_adv_tp_tvm)\n",
    "accuracy_adv_tp_tvm = np.sum(np.argmax(predictions_adv_tp_tvm, axis=1) == np.argmax(y_test_adv_tp, axis=1)) / len(y_test_adv_tp)\n",
    "\n",
    "# print(\"\\nAccuracy on true positive adversarial test examples after TotalVarMin: {:.2f}%\".format(accuracy_adv_tp_tvm * 100))\n",
    "print(\"\\nAccuracy drop on true positive adversarial test examples after TotalVarMin: {:.2f}%\".format((1 - accuracy_adv_tp_tvm) * 100))\n",
    "\n",
    "predictions_adv_fp_tvm = classifier.predict(x_test_adv_fp_tvm)\n",
    "accuracy_adv_fp_tvm = np.sum(np.argmax(predictions_adv_fp_tvm, axis=1) == np.argmax(y_test_adv_fp, axis=1)) / len(y_test_adv_fp)\n",
    "\n",
    "print(\"\\nAccuracy increase on false positive adversarial test examples after TotalVarMin: {:.2f}%\".format(accuracy_adv_fp_tvm * 100))"
   ]
  },
  {
   "cell_type": "markdown",
   "id": "bd8236f2",
   "metadata": {},
   "source": [
    "Step 3: Plot all data pre- and post-transformation"
   ]
  },
  {
   "cell_type": "code",
   "execution_count": 67,
   "id": "b7ee10bb",
   "metadata": {
    "scrolled": true
   },
   "outputs": [
    {
     "data": {
      "image/png": "[encoded data removed]",
      "text/plain": [
       "<Figure size 1728x1296 with 8 Axes>"
      ]
     },
     "metadata": {
      "needs_background": "light"
     },
     "output_type": "display_data"
    }
   ],
   "source": [
    "# Get index of successful TotalVarMin transformations\n",
    "succ_cln_tp_idx=[]\n",
    "succ_cln_fp_idx=[]\n",
    "succ_adv_tp_idx=[]\n",
    "succ_adv_fp_idx=[]\n",
    "\n",
    "\n",
    "for k in range(len(predictions_cln_tp_tvm)):\n",
    "    if(np.argmax(predictions_cln_tp_tvm, axis=1)[k] == np.argmax(y_test_cln_tp, axis=1)[k]):\n",
    "        succ_cln_tp_idx.append(k)\n",
    "        \n",
    "for k in range(len(predictions_cln_fp_tvm)):\n",
    "    if(np.argmax(predictions_cln_fp_tvm, axis=1)[k] == np.argmax(y_test_cln_fp, axis=1)[k]):\n",
    "        succ_cln_fp_idx.append(k)\n",
    "        \n",
    "for k in range(len(predictions_adv_tp_tvm)):\n",
    "    if(np.argmax(predictions_adv_tp_tvm, axis=1)[k] == np.argmax(y_test_adv_tp, axis=1)[k]):\n",
    "        succ_adv_tp_idx.append(k)\n",
    "        \n",
    "for k in range(len(predictions_adv_fp_tvm)):\n",
    "    if(np.argmax(predictions_adv_fp_tvm, axis=1)[k] == np.argmax(y_test_adv_fp, axis=1)[k]):\n",
    "        succ_adv_fp_idx.append(k)\n",
    "        \n",
    "# Get predictions of data before transformation\n",
    "\n",
    "predictions_cln_tp = classifier.predict(x_test_cln_tp)\n",
    "predictions_cln_fp = classifier.predict(x_test_cln_fp)\n",
    "predictions_adv_tp = classifier.predict(x_test_adv_tp)\n",
    "predictions_adv_fp = classifier.predict(x_test_adv_fp)\n",
    "\n",
    "#plot images\n",
    "plt.figure(figsize=(24,18))\n",
    "\n",
    "#Plot clean true positives\n",
    "ax = plt.subplot(2, 4, 1)\n",
    "plt.imshow(x_test_cln_tp[succ_cln_tp_idx[0]], cmap='gray')\n",
    "ax.set_title('Clean TP: {:}'.format(np.argmax(predictions_cln_tp,axis=1)[succ_cln_tp_idx[0]]), fontsize=20, loc='center', wrap=True)\n",
    "plt.axis(\"off\")\n",
    "\n",
    "ax = plt.subplot(2, 4, 1+4)\n",
    "plt.imshow(x_test_cln_tp_tvm[succ_cln_tp_idx[0]], cmap='gray')\n",
    "ax.set_title('Clean TP after TotalVarMin: {:}'.format(np.argmax(predictions_cln_tp_tvm,axis=1)[succ_cln_tp_idx[0]]), fontsize=20, loc='center', wrap=True)\n",
    "plt.axis(\"off\")\n",
    "\n",
    "#Plot clean false positives\n",
    "ax = plt.subplot(2, 4, 2)\n",
    "plt.imshow(x_test_cln_fp[succ_cln_fp_idx[0]], cmap='gray')\n",
    "ax.set_title('Clean FP: {:}\\nTrue class: {:}'.format(np.argmax(predictions_cln_fp,axis=1)[succ_cln_fp_idx[0]], np.argmax(y_test_cln_fp,axis=1)[succ_cln_fp_idx[0]]), fontsize=20, loc='center', wrap=True)\n",
    "plt.axis(\"off\")\n",
    "\n",
    "ax = plt.subplot(2, 4, 2+4)\n",
    "plt.imshow(x_test_cln_fp_tvm[succ_cln_fp_idx[0]], cmap='gray')\n",
    "ax.set_title('Clean FP after TotalVarMin: {:}\\nTrue class: {:}'.format(np.argmax(predictions_cln_fp_tvm,axis=1)[succ_cln_fp_idx[0]], np.argmax(y_test_cln_fp,axis=1)[succ_cln_fp_idx[0]]), fontsize=20, loc='center', wrap=True)\n",
    "plt.axis(\"off\")\n",
    "\n",
    "#Plot adversarial true positives\n",
    "ax = plt.subplot(2, 4, 3)\n",
    "plt.imshow(x_test_adv_tp[succ_adv_tp_idx[0]], cmap='gray')\n",
    "ax.set_title('Adversarial TP: {:}'.format(np.argmax(predictions_adv_tp,axis=1)[succ_adv_tp_idx[0]]), fontsize=20, loc='center', wrap=True)\n",
    "plt.axis(\"off\")\n",
    "\n",
    "ax = plt.subplot(2, 4, 3+4)\n",
    "plt.imshow(x_test_adv_tp_tvm[succ_adv_tp_idx[0]], cmap='gray')\n",
    "ax.set_title('Adversarial TP after TotalVarMin: {:}'.format(np.argmax(predictions_adv_tp_tvm,axis=1)[succ_adv_tp_idx[0]]), fontsize=20, loc='center', wrap=True)\n",
    "plt.axis(\"off\")\n",
    "\n",
    "#Plot adversarial false positivies\n",
    "ax = plt.subplot(2, 4, 4)\n",
    "plt.imshow(x_test_adv_fp[succ_adv_fp_idx[0]], cmap='gray')\n",
    "ax.set_title('Adversarial FP: {:}\\nTrue class: {:}'.format(np.argmax(predictions_adv_fp,axis=1)[succ_adv_fp_idx[0]], np.argmax(y_test_adv_fp,axis=1)[succ_adv_fp_idx[0]]), fontsize=20, loc='center', wrap=True)\n",
    "plt.axis(\"off\")\n",
    "\n",
    "ax = plt.subplot(2, 4, 4+4)\n",
    "plt.imshow(x_test_adv_fp_tvm[succ_adv_fp_idx[0]], cmap='gray')\n",
    "ax.set_title('Adversarial FP after TotalVarMin: {:}\\nTrue class: {:}'.format(np.argmax(predictions_adv_fp_tvm,axis=1)[succ_adv_fp_idx[0]], np.argmax(y_test_adv_fp,axis=1)[succ_adv_fp_idx[0]]), fontsize=20, loc='center', wrap=True)\n",
    "plt.axis(\"off\")\n",
    "\n",
    "image_path = '/home/cyber/Desktop/Adrian/Plots/TotalVarMin_MNIST_{:}.png'.format(attack_name)\n",
    "plt.savefig(image_path, dpi=500, transparent=True)\n",
    "plt.tight_layout()\n",
    "plt.show()"
   ]
  },
  {
   "cell_type": "markdown",
   "id": "21800af9",
   "metadata": {},
   "source": [
    "## Others"
   ]
  },
  {
   "cell_type": "markdown",
   "id": "4791c630",
   "metadata": {},
   "source": [
    "Optional step: Compare the performance of TotalVarMin against the adversary over a range of eps values"
   ]
  },
  {
   "cell_type": "code",
   "execution_count": null,
   "id": "3831c36b",
   "metadata": {},
   "outputs": [],
   "source": [
    "# eps_range = [0.01, 0.02, 0.03, 0.04, 0.05, 0.1, 0.2, 0.3, 0.4, 0.5, 0.6, 0.7, 0.8, 0.9]\n",
    "# accuracy_original = []\n",
    "# accuracy_robust = []\n",
    "\n",
    "# adv_crafter = FastGradientMethod(classifier)\n",
    "# adv_crafter_robust = FastGradientMethod(robust_classifier)\n",
    "\n",
    "# for eps in eps_range:\n",
    "#     adv_crafter.set_params(**{'eps': eps})\n",
    "#     adv_crafter_robust.set_params(**{'eps': eps})\n",
    "#     x_test_adv = adv_crafter.generate(x_test[:100])\n",
    "#     x_test_adv_robust = adv_crafter_robust.generate(x_test[:100])\n",
    "    \n",
    "#     predictions_original = np.argmax(classifier.predict(x_test_adv), axis=1)\n",
    "#     accuracy_original += [np.sum(predictions_original == np.argmax(y_test[:100], axis=1))]\n",
    "    \n",
    "#     predictions_robust = np.argmax(robust_classifier.predict(x_test_adv_robust), axis=1)\n",
    "#     accuracy_robust += [np.sum(predictions_robust == np.argmax(y_test[:100], axis=1))]\n",
    "\n",
    "# eps_range = eps_range"
   ]
  },
  {
   "cell_type": "code",
   "execution_count": null,
   "id": "0e8cbbd2",
   "metadata": {
    "scrolled": true
   },
   "outputs": [],
   "source": [
    "# fig, ax = plt.subplots()\n",
    "# ax.plot(np.array(eps_range), np.array(accuracy_original), 'b--', label='Original classifier')\n",
    "# ax.plot(np.array(eps_range), np.array(accuracy_robust), 'r--', label='Robust classifier')\n",
    "\n",
    "# legend = ax.legend(loc='upper right', shadow=True, fontsize='large')\n",
    "# #legend.get_frame().set_facecolor('#00FFCC')\n",
    "\n",
    "# plt.xlabel('Attack strength (eps)')\n",
    "# plt.ylabel('Accuracy (%)')\n",
    "# plt.show()"
   ]
  }
 ],
 "metadata": {
  "kernelspec": {
   "display_name": "Python 3",
   "language": "python",
   "name": "python3"
  },
  "language_info": {
   "codemirror_mode": {
    "name": "ipython",
    "version": 3
   },
   "file_extension": ".py",
   "mimetype": "text/x-python",
   "name": "python",
   "nbconvert_exporter": "python",
   "pygments_lexer": "ipython3",
   "version": "3.8.8"
  }
 },
 "nbformat": 4,
 "nbformat_minor": 5
}

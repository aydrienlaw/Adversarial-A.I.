{
 "cells": [
  {
   "cell_type": "markdown",
   "id": "256084fa",
   "metadata": {},
   "source": [
    "**This notebook focuses on the effectiveness of JPEG Compression against adversarial attacks on the MNIST dataset.**"
   ]
  },
  {
   "cell_type": "markdown",
   "id": "929cdf42",
   "metadata": {},
   "source": [
    "## **Section 0 - Setting Up**"
   ]
  },
  {
   "cell_type": "markdown",
   "id": "33dbf7b5",
   "metadata": {},
   "source": [
    "### **Load prerequisites**"
   ]
  },
  {
   "cell_type": "code",
   "execution_count": 1,
   "id": "5d608e9b",
   "metadata": {},
   "outputs": [],
   "source": [
    "import tensorflow as tf\n",
    "from tensorflow import keras\n",
    "from tensorflow.keras.models import Sequential, load_model\n",
    "from tensorflow.keras.layers import Dense, Flatten, Conv2D, MaxPooling2D, Activation, Dropout, Layer\n",
    "\n",
    "import numpy as np\n",
    "import pandas as pd\n",
    "import matplotlib.pyplot as plt\n",
    "\n",
    "\n",
    "from art import config\n",
    "from art.attacks.evasion import FastGradientMethod, DeepFool, ProjectedGradientDescent, SaliencyMapMethod, CarliniL2Method, NewtonFool, BasicIterativeMethod\n",
    "from art.defences.preprocessor import JpegCompression\n",
    "from art.defences.trainer import AdversarialTrainer\n",
    "from art.estimators.classification import KerasClassifier\n",
    "from art.utils import load_mnist"
   ]
  },
  {
   "cell_type": "markdown",
   "id": "012f0f0b",
   "metadata": {},
   "source": [
    "### **Disable eager execution to enable adversarial crafting and ART classifier**"
   ]
  },
  {
   "cell_type": "code",
   "execution_count": 2,
   "id": "87648805",
   "metadata": {
    "scrolled": true
   },
   "outputs": [],
   "source": [
    "tf.compat.v1.disable_eager_execution()"
   ]
  },
  {
   "cell_type": "markdown",
   "id": "e58648ad",
   "metadata": {},
   "source": [
    "### **Load MNIST dataset**"
   ]
  },
  {
   "cell_type": "code",
   "execution_count": 3,
   "id": "2aa87dae",
   "metadata": {},
   "outputs": [],
   "source": [
    "(x_train_cln, y_train_cln), (x_test_cln, y_test_cln), min_pixel_value, max_pixel_value = load_mnist()\n",
    "# x_test_cln, y_test_cln = x_test_cln[:50], y_test_cln[:50]"
   ]
  },
  {
   "cell_type": "markdown",
   "id": "070c4a58",
   "metadata": {},
   "source": [
    "### **Create MNIST classifier model**"
   ]
  },
  {
   "cell_type": "markdown",
   "id": "49c095be",
   "metadata": {},
   "source": [
    "*Load MNIST pre-trained model*"
   ]
  },
  {
   "cell_type": "code",
   "execution_count": 4,
   "id": "e8ddd668",
   "metadata": {},
   "outputs": [],
   "source": [
    "# model = load_model(\"/home/cyber/mnist_trained_model.h5\")\n",
    "model = load_model(\"/Users/Adrian/Downloads/Sem 3.2/Models & Checkpoints/mnist_trained_model.h5\")"
   ]
  },
  {
   "cell_type": "markdown",
   "id": "d4e2df92",
   "metadata": {},
   "source": [
    "*Create ART classifier*"
   ]
  },
  {
   "cell_type": "code",
   "execution_count": 5,
   "id": "d4d04446",
   "metadata": {},
   "outputs": [],
   "source": [
    "classifier = KerasClassifier(model=model, clip_values=(min_pixel_value, max_pixel_value), use_logits=False)"
   ]
  },
  {
   "cell_type": "markdown",
   "id": "7dc077ab",
   "metadata": {},
   "source": [
    "## **Section 1 - Attack**"
   ]
  },
  {
   "cell_type": "markdown",
   "id": "54ec9dd4",
   "metadata": {},
   "source": [
    "Step 1: Evaluate the classifier on the clean test set"
   ]
  },
  {
   "cell_type": "code",
   "execution_count": 6,
   "id": "1362d452",
   "metadata": {},
   "outputs": [
    {
     "name": "stdout",
     "output_type": "stream",
     "text": [
      "WARNING:tensorflow:From C:\\Users\\Adrian\\anaconda3\\envs\\tf-gpu\\lib\\site-packages\\tensorflow\\python\\keras\\engine\\training_v1.py:2070: Model.state_updates (from tensorflow.python.keras.engine.training) is deprecated and will be removed in a future version.\n",
      "Instructions for updating:\n",
      "This property should not be used in TensorFlow 2.0, as updates are applied automatically.\n",
      "Accuracy on clean test examples: 99.11%\n"
     ]
    }
   ],
   "source": [
    "predictions_cln = classifier.predict(x_test_cln)\n",
    "accuracy_cln = np.sum(np.argmax(predictions_cln, axis=1) == np.argmax(y_test_cln, axis=1)) / len(y_test_cln)\n",
    "\n",
    "print(\"Accuracy on clean test examples: {}%\".format(accuracy_cln * 100))"
   ]
  },
  {
   "cell_type": "markdown",
   "id": "11ac38ca",
   "metadata": {},
   "source": [
    "Step 2: Split clean test examples into true and false positives"
   ]
  },
  {
   "cell_type": "code",
   "execution_count": 7,
   "id": "7909c97f",
   "metadata": {
    "scrolled": true
   },
   "outputs": [
    {
     "name": "stdout",
     "output_type": "stream",
     "text": [
      "Number of clean true positives: 9911\n",
      "Number of clean false positives: 89\n"
     ]
    }
   ],
   "source": [
    "tp_cln_indexes=[]\n",
    "fp_cln_indexes=[]\n",
    "x_test_cln_tp=[]\n",
    "y_test_cln_tp=[]\n",
    "x_test_cln_fp=[]\n",
    "y_test_cln_fp=[]\n",
    "\n",
    "for k in range(len(predictions_cln)):\n",
    "    if(np.argmax(predictions_cln, axis=1)[k] == np.argmax(y_test_cln, axis=1)[k]):\n",
    "        tp_cln_indexes.append(k)\n",
    "    else:\n",
    "        fp_cln_indexes.append(k)\n",
    "\n",
    "for k in tp_cln_indexes:\n",
    "    x_test_cln_tp.append(x_test_cln[k])\n",
    "    y_test_cln_tp.append(y_test_cln[k])\n",
    "    \n",
    "for k in fp_cln_indexes:\n",
    "    x_test_cln_fp.append(x_test_cln[k])\n",
    "    y_test_cln_fp.append(y_test_cln[k])\n",
    "    \n",
    "x_test_cln_tp = np.array(x_test_cln_tp)\n",
    "x_test_cln_fp = np.array(x_test_cln_fp)\n",
    "\n",
    "print('Number of clean true positives: {:}'.format(len(x_test_cln_tp)))\n",
    "print('Number of clean false positives: {:}'.format(len(x_test_cln_fp)))"
   ]
  },
  {
   "cell_type": "markdown",
   "id": "334b91dd",
   "metadata": {},
   "source": [
    "Step 3: Craft adversarial examples"
   ]
  },
  {
   "cell_type": "markdown",
   "id": "b2e07528",
   "metadata": {},
   "source": [
    "*Craft Jacobian-based Saliency Map Attack (JSMA) attacks*"
   ]
  },
  {
   "cell_type": "code",
   "execution_count": 8,
   "id": "f1eb16ff",
   "metadata": {},
   "outputs": [],
   "source": [
    "# adv_crafter = SaliencyMapMethod(classifier=classifier, theta = 0.1, gamma=0.3, verbose=True)\n",
    "# x_test_JSMA_MNIST = adv_crafter.generate(x_test_cln)\n",
    "# %store x_test_JSMA_MNIST"
   ]
  },
  {
   "cell_type": "markdown",
   "id": "2d730b68",
   "metadata": {},
   "source": [
    "*Craft Basic Iterative Method (BMI) attacks*"
   ]
  },
  {
   "cell_type": "code",
   "execution_count": 9,
   "id": "029c288b",
   "metadata": {},
   "outputs": [],
   "source": [
    "# adv_crafter = BasicIterativeMethod(classifier, eps=0.3, eps_step=0.1, max_iter=100)\n",
    "# x_test_BIM_MNIST = adv_crafter.generate(x_test_cln)\n",
    "# %store x_test_BIM_MNIST"
   ]
  },
  {
   "cell_type": "markdown",
   "id": "76558c01",
   "metadata": {},
   "source": [
    "*Craft Projected Gradient Descent (PGD) attacks*"
   ]
  },
  {
   "cell_type": "code",
   "execution_count": 10,
   "id": "1eca3626",
   "metadata": {},
   "outputs": [],
   "source": [
    "# adv_crafter = ProjectedGradientDescent(classifier, eps=0.3, eps_step=0.1, max_iter=100)\n",
    "# x_test_PGD_MNIST = adv_crafter.generate(x_test_cln)\n",
    "# %store x_test_PGD_MNIST"
   ]
  },
  {
   "cell_type": "markdown",
   "id": "7ad2f431",
   "metadata": {},
   "source": [
    "*Craft NewtonFool attacks*"
   ]
  },
  {
   "cell_type": "code",
   "execution_count": 11,
   "id": "d894a1e7",
   "metadata": {},
   "outputs": [],
   "source": [
    "# adv_crafter =  NewtonFool(classifier=classifier, eta=1, max_iter=500, verbose=True)\n",
    "# x_test_Newton_MNIST = adv_crafter.generate(x_test_cln)\n",
    "# %store x_test_Newton_MNIST"
   ]
  },
  {
   "cell_type": "markdown",
   "id": "99a5111d",
   "metadata": {},
   "source": [
    "*Craft DeepFool attacks*"
   ]
  },
  {
   "cell_type": "code",
   "execution_count": 12,
   "id": "da3c3262",
   "metadata": {},
   "outputs": [],
   "source": [
    "# adv_crafter = DeepFool(classifier=classifier, epsilon=1e-06, max_iter=100)\n",
    "# x_test_Deep_MNIST = adv_crafter.generate(x_test_cln)\n",
    "# %store x_test_Deep_MNIST"
   ]
  },
  {
   "cell_type": "markdown",
   "id": "a02f9891",
   "metadata": {},
   "source": [
    "*Alternatively, load existing adversarial attacks*"
   ]
  },
  {
   "cell_type": "code",
   "execution_count": 399,
   "id": "4d6ff9d2",
   "metadata": {},
   "outputs": [],
   "source": [
    "attack_name = 'PGD'\n",
    "%store -r x_test_PGD_MNIST\n",
    "x_test_adv = x_test_PGD_MNIST"
   ]
  },
  {
   "cell_type": "markdown",
   "id": "b93f4a5f",
   "metadata": {},
   "source": [
    "Step 4: Evaluate the classifier on the adversarial test set"
   ]
  },
  {
   "cell_type": "code",
   "execution_count": 400,
   "id": "ee462839",
   "metadata": {},
   "outputs": [
    {
     "name": "stdout",
     "output_type": "stream",
     "text": [
      "Accuracy on adversarial test examples: 0.74%\n"
     ]
    }
   ],
   "source": [
    "predictions_adv = classifier.predict(x_test_adv)\n",
    "accuracy_adv = np.sum(np.argmax(predictions_adv, axis=1) == np.argmax(y_test_cln, axis=1)) / len(y_test_cln)\n",
    "\n",
    "print(\"Accuracy on adversarial test examples: {}%\".format(accuracy_adv * 100))"
   ]
  },
  {
   "cell_type": "markdown",
   "id": "602e6a1c",
   "metadata": {},
   "source": [
    "Step 5: Split the adversarial test examples into true and false positives"
   ]
  },
  {
   "cell_type": "code",
   "execution_count": 401,
   "id": "214595e4",
   "metadata": {},
   "outputs": [
    {
     "name": "stdout",
     "output_type": "stream",
     "text": [
      "Adversarial TP: 74\n",
      "Adversarial FP: 9926\n"
     ]
    }
   ],
   "source": [
    "tp_adv_indexes=[]\n",
    "fp_adv_indexes=[]\n",
    "x_test_adv_tp=[]\n",
    "y_test_adv_tp=[]\n",
    "x_test_adv_fp=[]\n",
    "y_test_adv_fp=[]\n",
    "\n",
    "for k in range(len(predictions_adv)):\n",
    "    if(np.argmax(predictions_adv, axis=1)[k] == np.argmax(y_test_cln, axis=1)[k]):\n",
    "        tp_adv_indexes.append(k)\n",
    "    else:\n",
    "        fp_adv_indexes.append(k)\n",
    "\n",
    "for k in tp_adv_indexes:\n",
    "    x_test_adv_tp.append(x_test_adv[k])\n",
    "    y_test_adv_tp.append(y_test_cln[k])\n",
    "    \n",
    "for k in fp_adv_indexes:\n",
    "    x_test_adv_fp.append(x_test_adv[k])\n",
    "    y_test_adv_fp.append(y_test_cln[k])\n",
    "    \n",
    "x_test_adv_tp = np.array(x_test_adv_tp)\n",
    "x_test_adv_fp = np.array(x_test_adv_fp)\n",
    "\n",
    "print('Adversarial TP: {:}'.format(len(x_test_adv_tp)))\n",
    "print('Adversarial FP: {:}'.format(len(x_test_adv_fp)))"
   ]
  },
  {
   "cell_type": "markdown",
   "id": "d1ce3b44",
   "metadata": {},
   "source": [
    "Step 6: Plot clean test examples and their adversarial counterparts"
   ]
  },
  {
   "cell_type": "code",
   "execution_count": 402,
   "id": "9fb593b7",
   "metadata": {},
   "outputs": [
    {
     "data": {
      "image/png": "[encoded data removed]",
      "text/plain": [
       "<Figure size 720x720 with 20 Axes>"
      ]
     },
     "metadata": {},
     "output_type": "display_data"
    }
   ],
   "source": [
    "# Plot images before and after adversarial attack\n",
    "plt.figure(figsize=(10,10))\n",
    "\n",
    "for i in range(10):\n",
    "    ax = plt.subplot(4, 5, i + 1)\n",
    "    plt.imshow(x_test_cln[i], cmap='gray')\n",
    "    ax.set_xlabel('{:}'.format(np.argmax(y_test_cln,axis=1)[i]), fontsize=12)\n",
    "    \n",
    "    ax = plt.subplot(4, 5, i + 11)\n",
    "    plt.imshow(x_test_adv[i], cmap='gray')\n",
    "    ax.set_xlabel('{:}'.format(np.argmax(predictions_adv,axis=1)[i]), fontsize=12)\n",
    "    \n",
    "# Plot y-axis labels\n",
    "ax1 = plt.subplot(4,5,1)\n",
    "ax1.set_ylabel('Original images', rotation=0, va='center', ha='right', labelpad=15, fontsize=15, y=-0.125)\n",
    "\n",
    "ax3 = plt.subplot(4,5,11)\n",
    "ax3.set_ylabel('Adversarial attacks', rotation=0, va='center', ha='right', labelpad=15, fontsize=15, y=-0.125)\n",
    "\n",
    "# Turn off axis for all plots\n",
    "plt.setp(plt.gcf().get_axes(), xticks=[], yticks=[], frame_on=False)\n",
    "\n",
    "# Adjusting space between subplots\n",
    "plt.tight_layout()\n",
    "plt.subplots_adjust(top=0.7)\n",
    "\n",
    "# Save and show image\n",
    "plt.show()"
   ]
  },
  {
   "cell_type": "markdown",
   "id": "0a800d61",
   "metadata": {},
   "source": [
    "## **Section 2 - Defence**"
   ]
  },
  {
   "cell_type": "markdown",
   "id": "d8d97aeb",
   "metadata": {},
   "source": [
    "### **JPEG Compression**"
   ]
  },
  {
   "cell_type": "markdown",
   "id": "534f8fb1",
   "metadata": {},
   "source": [
    "Step 1: Transform input"
   ]
  },
  {
   "cell_type": "code",
   "execution_count": 428,
   "id": "f37db386",
   "metadata": {},
   "outputs": [],
   "source": [
    "parameter = 10\n",
    "defence = JpegCompression(quality=parameter, clip_values=(min_pixel_value, max_pixel_value), verbose=True)"
   ]
  },
  {
   "cell_type": "code",
   "execution_count": 429,
   "id": "6341c3b1",
   "metadata": {},
   "outputs": [
    {
     "data": {
      "application/vnd.jupyter.widget-view+json": {
       "model_id": "32361133a52b4c1496afc4047184a1e4",
       "version_major": 2,
       "version_minor": 0
      },
      "text/plain": [
       "JPEG compression: 0it [00:00, ?it/s]"
      ]
     },
     "metadata": {},
     "output_type": "display_data"
    },
    {
     "data": {
      "application/vnd.jupyter.widget-view+json": {
       "model_id": "e233cd4cfd094bd9b2943f281dedbeac",
       "version_major": 2,
       "version_minor": 0
      },
      "text/plain": [
       "JPEG compression: 0it [00:00, ?it/s]"
      ]
     },
     "metadata": {},
     "output_type": "display_data"
    }
   ],
   "source": [
    "x_test_cln_tp_jc = defence(x_test_cln_tp)[0]\n",
    "x_test_cln_fp_jc = defence(x_test_cln_fp)[0]\n",
    "x_test_cln_jc = np.concatenate((x_test_cln_tp_jc, x_test_cln_fp_jc), axis=0)\n",
    "y_test_cln_jc = y_test_cln_tp + y_test_cln_fp"
   ]
  },
  {
   "cell_type": "code",
   "execution_count": 430,
   "id": "c97386e3",
   "metadata": {},
   "outputs": [
    {
     "data": {
      "application/vnd.jupyter.widget-view+json": {
       "model_id": "13bdebafa85c48f19a4aed75936057b2",
       "version_major": 2,
       "version_minor": 0
      },
      "text/plain": [
       "JPEG compression: 0it [00:00, ?it/s]"
      ]
     },
     "metadata": {},
     "output_type": "display_data"
    },
    {
     "data": {
      "application/vnd.jupyter.widget-view+json": {
       "model_id": "01cf569e3e564240a8e4a232e9dac589",
       "version_major": 2,
       "version_minor": 0
      },
      "text/plain": [
       "JPEG compression: 0it [00:00, ?it/s]"
      ]
     },
     "metadata": {},
     "output_type": "display_data"
    }
   ],
   "source": [
    "x_test_adv_tp_jc = defence(x_test_adv_tp)[0]\n",
    "x_test_adv_fp_jc = defence(x_test_adv_fp)[0]\n",
    "x_test_adv_jc = np.concatenate((x_test_adv_tp_jc, x_test_adv_fp_jc), axis=0)\n",
    "y_test_adv_jc = y_test_adv_tp + y_test_adv_fp"
   ]
  },
  {
   "cell_type": "markdown",
   "id": "33b9f6b8",
   "metadata": {},
   "source": [
    "Step 2: Evaluate the classifier on all 4 sets of data after JpegCompression"
   ]
  },
  {
   "cell_type": "code",
   "execution_count": 431,
   "id": "b57ab56c",
   "metadata": {
    "scrolled": false
   },
   "outputs": [
    {
     "name": "stdout",
     "output_type": "stream",
     "text": [
      "\u001b[1mThe effect of JPEG Compression:\u001b[0m\n",
      "\n",
      "On entire \u001b[1mclean test set\u001b[0m: -0.06%\n",
      "\n",
      "Accuracy drop on clean TP examples: 0.16%\n",
      "\n",
      "Accuracy increase on clean FP examples: 11.24%\n",
      "\n",
      "On entire \u001b[1madversarial test set\u001b[0m: +0.08%\n",
      "\n",
      "Accuracy drop on adversarial TP examples: 0.00%\n",
      "\n",
      "Accuracy increase on adversarial FP examples: 0.08%\n"
     ]
    }
   ],
   "source": [
    "print('\\033[1mThe effect of JPEG Compression:\\033[0m\\n')\n",
    "\n",
    "predictions_cln_jc = classifier.predict(x_test_cln_jc)\n",
    "accuracy_cln_jc = np.sum(np.argmax(predictions_cln_jc, axis=1) == np.argmax(y_test_cln_jc, axis=1)) / len(y_test_cln_jc)\n",
    "\n",
    "print(\"On entire \\033[1mclean test set\\033[0m: {:.2f}%\".format((accuracy_cln_jc - accuracy_cln) * 100))\n",
    " \n",
    "predictions_cln_tp_jc = classifier.predict(x_test_cln_tp_jc)\n",
    "accuracy_cln_tp_jc = np.sum(np.argmax(predictions_cln_tp_jc, axis=1) == np.argmax(y_test_cln_tp, axis=1)) / len(y_test_cln_tp)\n",
    "\n",
    "# print(\"\\nAccuracy on TP clean test examples after TotalVarMin: {:.2f}%\".format(accuracy_cln_tp_jc * 100))\n",
    "print(\"\\nAccuracy drop on clean TP examples: {:.2f}%\".format((1 - accuracy_cln_tp_jc) * 100))\n",
    "\n",
    "predictions_cln_fp_jc = classifier.predict(x_test_cln_fp_jc)\n",
    "accuracy_cln_fp_jc = np.sum(np.argmax(predictions_cln_fp_jc, axis=1) == np.argmax(y_test_cln_fp, axis=1)) / len(y_test_cln_fp)\n",
    "\n",
    "print(\"\\nAccuracy increase on clean FP examples: {:.2f}%\".format(accuracy_cln_fp_jc * 100))\n",
    "\n",
    "predictions_adv_jc = classifier.predict(x_test_adv_jc)\n",
    "accuracy_adv_jc = np.sum(np.argmax(predictions_adv_jc, axis=1) == np.argmax(y_test_adv_jc, axis=1)) / len(y_test_adv_jc)\n",
    "\n",
    "print(\"\\nOn entire \\033[1madversarial test set\\033[0m: +{:.2f}%\".format((accuracy_adv_jc-accuracy_adv) * 100))\n",
    "\n",
    "predictions_adv_tp_jc = classifier.predict(x_test_adv_tp_jc)\n",
    "accuracy_adv_tp_jc = np.sum(np.argmax(predictions_adv_tp_jc, axis=1) == np.argmax(y_test_adv_tp, axis=1)) / len(y_test_adv_tp)\n",
    "\n",
    "# print(\"\\nAccuracy on TP adversarial test examples after TotalVarMin: {:.2f}%\".format(accuracy_adv_tp_jc * 100))\n",
    "print(\"\\nAccuracy drop on adversarial TP examples: {:.2f}%\".format((1 - accuracy_adv_tp_jc) * 100))\n",
    "\n",
    "predictions_adv_fp_jc = classifier.predict(x_test_adv_fp_jc)\n",
    "accuracy_adv_fp_jc = np.sum(np.argmax(predictions_adv_fp_jc, axis=1) == np.argmax(y_test_adv_fp, axis=1)) / len(y_test_adv_fp)\n",
    "\n",
    "print(\"\\nAccuracy increase on adversarial FP examples: {:.2f}%\".format(accuracy_adv_fp_jc * 100))"
   ]
  },
  {
   "cell_type": "markdown",
   "id": "bd8236f2",
   "metadata": {},
   "source": [
    "Step 3: Plot all data pre- and post-transformation"
   ]
  },
  {
   "cell_type": "code",
   "execution_count": 432,
   "id": "7cf8f7e2",
   "metadata": {},
   "outputs": [],
   "source": [
    "# Get index of successful JPEG Compression transformations\n",
    "succ_cln_tp_idx=[]\n",
    "succ_cln_fp_idx=[]\n",
    "succ_adv_tp_idx=[]\n",
    "succ_adv_fp_idx=[]\n",
    "\n",
    "\n",
    "for k in range(len(predictions_cln_tp_jc)):\n",
    "    if(np.argmax(predictions_cln_tp_jc, axis=1)[k] == np.argmax(y_test_cln_tp, axis=1)[k]):\n",
    "        succ_cln_tp_idx.append(k)\n",
    "        \n",
    "for k in range(len(predictions_cln_fp_jc)):\n",
    "    if(np.argmax(predictions_cln_fp_jc, axis=1)[k] == np.argmax(y_test_cln_fp, axis=1)[k]):\n",
    "        succ_cln_fp_idx.append(k)\n",
    "        \n",
    "for k in range(len(predictions_adv_tp_jc)):\n",
    "    if(np.argmax(predictions_adv_tp_jc, axis=1)[k] == np.argmax(y_test_adv_tp, axis=1)[k]):\n",
    "        succ_adv_tp_idx.append(k)\n",
    "        \n",
    "for k in range(len(predictions_adv_fp_jc)):\n",
    "    if(np.argmax(predictions_adv_fp_jc, axis=1)[k] == np.argmax(y_test_adv_fp, axis=1)[k]):\n",
    "        succ_adv_fp_idx.append(k)\n",
    "        \n",
    "# Get predictions of data before transformation\n",
    "\n",
    "predictions_cln_tp = classifier.predict(x_test_cln_tp)\n",
    "predictions_cln_fp = classifier.predict(x_test_cln_fp)\n",
    "predictions_adv_tp = classifier.predict(x_test_adv_tp)\n",
    "predictions_adv_fp = classifier.predict(x_test_adv_fp)\n"
   ]
  },
  {
   "cell_type": "code",
   "execution_count": 433,
   "id": "b7ee10bb",
   "metadata": {
    "scrolled": true
   },
   "outputs": [
    {
     "data": {
      "image/png": "[encoded data removed]",
      "text/plain": [
       "<Figure size 720x720 with 8 Axes>"
      ]
     },
     "metadata": {},
     "output_type": "display_data"
    }
   ],
   "source": [
    "# Plot images before and after JPEG Compression\n",
    "fig, axs = plt.subplots(2, 4, figsize=(10,10))\n",
    "\n",
    "# Plot super title\n",
    "fig.suptitle('Quality = {:}'.format(parameter), y=0.62, x=0.58, fontsize=20)\n",
    "\n",
    "# Plot x-axis labels\n",
    "axs[0,0].set_title('Clean TP', va='center', ha='center', pad=15, fontsize=15)\n",
    "axs[0,1].set_title('Clean FP', va='center', ha='center', pad=15, fontsize=15)\n",
    "axs[0,2].set_title('Adversarial TP', va='center', ha='center', pad=15, fontsize=15)\n",
    "axs[0,3].set_title('Adversarial FP', va='center', ha='center', pad=15, fontsize=15)\n",
    "\n",
    "# Plot y-axis labels\n",
    "axs[0,0].set_ylabel('Before JPEG\\nCompression', rotation=0, va='center', ha='right', labelpad=15, fontsize=15)\n",
    "axs[1,0].set_ylabel('After JPEG\\nCompression', rotation=0, va='center', ha='right', labelpad=15, fontsize=15)\n",
    "\n",
    "# Plot clean true positives\n",
    "axs[0,0].imshow(x_test_cln_tp[succ_cln_tp_idx[0]], cmap='gray')\n",
    "axs[0,0].set_xlabel('{:}'.format(np.argmax(predictions_cln_tp,axis=1)[succ_cln_tp_idx[0]]), labelpad=5, fontsize=12)\n",
    "\n",
    "axs[1,0].imshow(x_test_cln_tp_jc[succ_cln_tp_idx[0]], cmap='gray')\n",
    "axs[1,0].set_xlabel('{:}'.format(np.argmax(predictions_cln_tp_jc,axis=1)[succ_cln_tp_idx[0]]), labelpad=5, fontsize=12)\n",
    "\n",
    "# Plot clean false positives\n",
    "axs[0,1].imshow(x_test_cln_fp[succ_cln_fp_idx[0]], cmap='gray')\n",
    "axs[0,1].set_xlabel('{:} (Correct class: {:})'.format(np.argmax(predictions_cln_fp,axis=1)[succ_cln_fp_idx[0]], np.argmax(y_test_cln_fp,axis=1)[succ_cln_fp_idx[0]]), labelpad=5, fontsize=12)\n",
    "\n",
    "axs[1,1].imshow(x_test_cln_fp_jc[succ_cln_fp_idx[0]], cmap='gray')\n",
    "axs[1,1].set_xlabel('{:} (Correct class: {:})'.format(np.argmax(predictions_cln_fp_jc,axis=1)[succ_cln_fp_idx[0]], np.argmax(y_test_cln_fp,axis=1)[succ_cln_fp_idx[0]]), labelpad=5, fontsize=12)\n",
    "\n",
    "# Plot adversarial true positives\n",
    "axs[0,2].imshow(x_test_adv_tp[succ_adv_tp_idx[0]], cmap='gray')\n",
    "axs[0,2].set_xlabel('{:}'.format(np.argmax(predictions_adv_tp,axis=1)[succ_adv_tp_idx[0]]), labelpad=5, fontsize=12)\n",
    "\n",
    "axs[1,2].imshow(x_test_adv_tp_jc[succ_adv_tp_idx[0]], cmap='gray')\n",
    "axs[1,2].set_xlabel('{:}'.format(np.argmax(predictions_adv_tp_jc,axis=1)[succ_adv_tp_idx[0]]), labelpad=5, fontsize=12)\n",
    "\n",
    "# Plot adversarial false positivies\n",
    "axs[0,3].imshow(x_test_adv_fp[succ_adv_fp_idx[0]], cmap='gray')\n",
    "axs[0,3].set_xlabel('{:} (Correct class: {:})'.format(np.argmax(predictions_adv_fp,axis=1)[succ_adv_fp_idx[0]], np.argmax(y_test_adv_fp,axis=1)[succ_adv_fp_idx[0]]), labelpad=5, fontsize=12)\n",
    "\n",
    "axs[1,3].imshow(x_test_adv_fp_jc[succ_adv_fp_idx[0]], cmap='gray')\n",
    "axs[1,3].set_xlabel('{:} (Correct class: {:})'.format(np.argmax(predictions_adv_fp_jc,axis=1)[succ_adv_fp_idx[0]], np.argmax(y_test_adv_fp,axis=1)[succ_adv_fp_idx[0]]), labelpad=5, fontsize=12)\n",
    "\n",
    "# Turn off axis for all plots\n",
    "plt.setp(plt.gcf().get_axes(), xticks=[], yticks=[], frame_on=False)\n",
    "\n",
    "# Adjusting space between subplots\n",
    "plt.tight_layout()\n",
    "fig.subplots_adjust(top=0.6)\n",
    "\n",
    "# Save and show image\n",
    "# image_path = '/home/cyber/Desktop/Adrian/Plots/JpegCompression/JpegCompression_Quality={:}_MNIST_{:}.png'.format(parameter, attack_name)\n",
    "image_path = '/Users/Adrian/Downloads/Sem 3.2/JpegCompression/JpegCompression_Quality={:}_MNIST_{:}.png'.format(parameter, attack_name)\n",
    "plt.savefig(image_path, dpi=500, transparent=True, bbox_inches='tight')\n",
    "plt.show()"
   ]
  },
  {
   "cell_type": "markdown",
   "id": "21800af9",
   "metadata": {},
   "source": [
    "# Others"
   ]
  },
  {
   "cell_type": "markdown",
   "id": "4791c630",
   "metadata": {},
   "source": [
    "Optional step: Compare the performance of JpegCompression against the adversary over a range of eps values"
   ]
  },
  {
   "cell_type": "code",
   "execution_count": null,
   "id": "3831c36b",
   "metadata": {},
   "outputs": [],
   "source": [
    "# eps_range = [0.01, 0.02, 0.03, 0.04, 0.05, 0.1, 0.2, 0.3, 0.4, 0.5, 0.6, 0.7, 0.8, 0.9]\n",
    "# accuracy_original = []\n",
    "# accuracy_robust = []\n",
    "\n",
    "# adv_crafter = FastGradientMethod(classifier)\n",
    "# adv_crafter_robust = FastGradientMethod(robust_classifier)\n",
    "\n",
    "# for eps in eps_range:\n",
    "#     adv_crafter.set_params(**{'eps': eps})\n",
    "#     adv_crafter_robust.set_params(**{'eps': eps})\n",
    "#     x_test_adv = adv_crafter.generate(x_test[:100])\n",
    "#     x_test_adv_robust = adv_crafter_robust.generate(x_test[:100])\n",
    "    \n",
    "#     predictions_original = np.argmax(classifier.predict(x_test_adv), axis=1)\n",
    "#     accuracy_original += [np.sum(predictions_original == np.argmax(y_test[:100], axis=1))]\n",
    "    \n",
    "#     predictions_robust = np.argmax(robust_classifier.predict(x_test_adv_robust), axis=1)\n",
    "#     accuracy_robust += [np.sum(predictions_robust == np.argmax(y_test[:100], axis=1))]\n",
    "\n",
    "# eps_range = eps_range"
   ]
  },
  {
   "cell_type": "code",
   "execution_count": null,
   "id": "0e8cbbd2",
   "metadata": {},
   "outputs": [],
   "source": [
    "# fig, ax = plt.subplots()\n",
    "# ax.plot(np.array(eps_range), np.array(accuracy_original), 'b--', label='Original classifier')\n",
    "# ax.plot(np.array(eps_range), np.array(accuracy_robust), 'r--', label='Robust classifier')\n",
    "\n",
    "# legend = ax.legend(loc='upper right', shadow=True, fontsize='large')\n",
    "# #legend.get_frame().set_facecolor('#00FFCC')\n",
    "\n",
    "# plt.xlBIMabel('Attack strength (eps)')\n",
    "# plt.ylabel('Accuracy (%)')\n",
    "# plt.show()"
   ]
  },
  {
   "cell_type": "markdown",
   "id": "f3465615",
   "metadata": {},
   "source": [
    "Optional step: Ensure that the clean and adversarial test sets are split correctly into their true and false positivies"
   ]
  },
  {
   "cell_type": "code",
   "execution_count": null,
   "id": "5d959a00",
   "metadata": {},
   "outputs": [],
   "source": [
    "# predictions_cln_tp = classifier.predict(x_test_cln_tp)\n",
    "# accuracy = np.sum(np.argmax(predictions_cln_tp, axis=1) == np.argmax(y_test_cln_tp, axis=1)) / len(y_test_cln_tp)\n",
    "\n",
    "# print(\"Accuracy on true positive clean test examples: {}%\".format(accuracy * 100))\n",
    "\n",
    "# predictions_cln_fp = classifier.predict(x_test_cln_fp)\n",
    "# accuracy = np.sum(np.argmax(predictions_cln_fp, axis=1) == np.argmax(y_test_cln_fp, axis=1)) / len(y_test_cln_fp)\n",
    "\n",
    "# print(\"Accuracy on false positive clean test examples: {}%\".format(accuracy * 100))\n",
    "\n",
    "# predictions_adv_tp = classifier.predict(x_test_adv_tp)\n",
    "# accuracy = np.sum(np.argmax(predictions_adv_tp, axis=1) == np.argmax(y_test_adv_tp, axis=1)) / len(y_test_adv_tp)\n",
    "\n",
    "# print(\"Accuracy on true positive adversarial test examples: {}%\".format(accuracy * 100))\n",
    "\n",
    "# predictions_adv_fp = classifier.predict(x_test_adv_fp)\n",
    "# accuracy = np.sum(np.argmax(predictions_adv_fp, axis=1) == np.argmax(y_test_adv_fp, axis=1)) / len(y_test_adv_fp)\n",
    "\n",
    "# print(\"Accuracy on false positive adversarial test examples: {}%\".format(accuracy * 100))"
   ]
  },
  {
   "cell_type": "code",
   "execution_count": 8,
   "id": "2bb2de3f",
   "metadata": {},
   "outputs": [],
   "source": [
    "%store -r x_test_BIM_MNIST\n",
    "%store -r x_test_JSMA_MNIST\n",
    "%store -r x_test_Deep_MNIST\n",
    "%store -r x_test_Newton_MNIST\n",
    "%store -r x_test_PGD_MNIST\n",
    "\n",
    "predictions_cln = classifier.predict(x_test_cln)\n",
    "predictions_jsma = classifier.predict(x_test_JSMA_MNIST)\n",
    "predictions_bim = classifier.predict(x_test_BIM_MNIST)\n",
    "predictions_deep = classifier.predict(x_test_Deep_MNIST)\n",
    "predictions_newton = classifier.predict(x_test_Newton_MNIST)\n",
    "predictions_pgd = classifier.predict(x_test_PGD_MNIST)"
   ]
  },
  {
   "cell_type": "code",
   "execution_count": null,
   "id": "a12fe116",
   "metadata": {},
   "outputs": [],
   "source": [
    "from art.defences.preprocessor import JpegCompression\n",
    "\n",
    "ss = JpegCompression(window_size=3)\n",
    "cln_jc3 = ss(x_test_cln)[0]\n",
    "jsma_jc3 = ss(x_test_JSMA_MNIST)[0]\n",
    "bim_jc3 = ss(x_test_BIM_MNIST)[0]\n",
    "deep_jc3 = ss(x_test_Deep_MNIST)[0]\n",
    "newton_jc3 = ss(x_test_Newton_MNIST)[0]\n",
    "pgd_jc3 = ss(x_test_PGD_MNIST)[0]\n",
    "\n",
    "ss = JpegCompression(window_size=5)\n",
    "cln_jc5 = ss(x_test_cln)[0]\n",
    "jsma_jc5 = ss(x_test_JSMA_MNIST)[0]\n",
    "bim_jc5 = ss(x_test_BIM_MNIST)[0]\n",
    "deep_jc5 = ss(x_test_Deep_MNIST)[0]\n",
    "newton_jc5 = ss(x_test_Newton_MNIST)[0]\n",
    "pgd_jc5 = ss(x_test_PGD_MNIST)[0]\n",
    "\n",
    "predictions_cln_jc3 = classifier.predict(cln_jc3)\n",
    "predictions_jsma_jc3 = classifier.predict(jsma_jc3)\n",
    "predictions_bim_jc3 = classifier.predict(bim_jc3)\n",
    "predictions_deep_jc3 = classifier.predict(deep_jc3)\n",
    "predictions_newton_jc3 = classifier.predict(newton_jc3)\n",
    "predictions_pgd_jc3 = classifier.predict(pgd_jc3)\n",
    "\n",
    "predictions_cln_jc5 = classifier.predict(cln_jc5)\n",
    "predictions_jsma_jc5 = classifier.predict(jsma_jc5)\n",
    "predictions_bim_jc5 = classifier.predict(bim_jc5)\n",
    "predictions_deep_jc5 = classifier.predict(deep_jc5)\n",
    "predictions_newton_jc5 = classifier.predict(newton_jc5)\n",
    "predictions_pgd_jc5 = classifier.predict(pgd_jc5)"
   ]
  },
  {
   "cell_type": "code",
   "execution_count": null,
   "id": "6b1988cf",
   "metadata": {},
   "outputs": [],
   "source": [
    "cln_idx=[]\n",
    "bim_idx=[]\n",
    "jsma_idx=[]\n",
    "deep_idx=[]\n",
    "newton_idx=[]\n",
    "pgd_idx=[]\n",
    "\n",
    "for k in range(len(predictions_bim_jc3)):\n",
    "    if(np.argmax(predictions_cln_jc3, axis=1)[k] == np.argmax(predictions_cln_jc5, axis=1)[k] == np.argmax(y_test_cln, axis=1)[k]):\n",
    "        cln_idx.append(k)\n",
    "        \n",
    "for k in range(len(predictions_bim_jc3)):\n",
    "    if(np.argmax(predictions_bim_jc3, axis=1)[k] == np.argmax(predictions_bim_jc5, axis=1)[k] == np.argmax(y_test_cln, axis=1)[k] != np.argmax(predictions_bim, axis=1)[k]):\n",
    "        bim_idx.append(k)\n",
    "    \n",
    "for k in range(len(predictions_jsma_jc3)):\n",
    "    if(np.argmax(predictions_jsma_jc3, axis=1)[k] == np.argmax(predictions_jsma_jc5, axis=1)[k] == np.argmax(y_test_cln, axis=1)[k] != np.argmax(predictions_jsma, axis=1)[k]):\n",
    "        jsma_idx.append(k)\n",
    "\n",
    "for k in range(len(predictions_deep_jc3)):\n",
    "    if(np.argmax(predictions_deep_jc3, axis=1)[k] == np.argmax(predictions_deep_jc5, axis=1)[k] == np.argmax(y_test_cln, axis=1)[k] != np.argmax(predictions_deep, axis=1)[k]):\n",
    "        deep_idx.append(k)\n",
    "\n",
    "for k in range(len(predictions_newton_jc3)):\n",
    "    if(np.argmax(predictions_newton_jc3, axis=1)[k] == np.argmax(predictions_newton_jc5, axis=1)[k] == np.argmax(y_test_cln, axis=1)[k] != np.argmax(predictions_newton, axis=1)[k]):\n",
    "        newton_idx.append(k)\n",
    "\n",
    "for k in range(len(predictions_pgd_jc3)):\n",
    "    if(np.argmax(predictions_pgd_jc3, axis=1)[k] == np.argmax(predictions_pgd_jc5, axis=1)[k] == np.argmax(y_test_cln, axis=1)[k] != np.argmax(predictions_pgd, axis=1)[k]):\n",
    "        pgd_idx.append(k)"
   ]
  },
  {
   "cell_type": "code",
   "execution_count": null,
   "id": "b82ed560",
   "metadata": {},
   "outputs": [],
   "source": [
    "cln_target = []\n",
    "bim_target = []\n",
    "jsma_target = []\n",
    "deep_target = []\n",
    "newton_target = []\n",
    "pgd_target = []\n",
    "\n",
    "for k in range(len(cln_idx)):\n",
    "    if np.argmax(predictions_cln,axis=1)[cln_idx[k]]== 7:\n",
    "        cln_target.append(k)\n",
    "        \n",
    "for k in range(len(bim_idx)):\n",
    "    if np.argmax(predictions_bim,axis=1)[bim_idx[k]]== 7:\n",
    "        bim_target.append(k)\n",
    "\n",
    "for k in range(len(jsma_idx)):\n",
    "    if np.argmax(predictions_jsma,axis=1)[jsma_idx[k]]== 7:\n",
    "        jsma_target.append(k)\n",
    "\n",
    "for k in range(len(deep_idx)):\n",
    "    if np.argmax(predictions_deep,axis=1)[deep_idx[k]]== 7:\n",
    "        deep_target.append(k)\n",
    "        \n",
    "for k in range(len(newton_idx)):\n",
    "    if np.argmax(predictions_newton,axis=1)[newton_idx[k]]== 7:\n",
    "        newton_target.append(k)\n",
    "        \n",
    "for k in range(len(pgd_idx)):\n",
    "    if np.argmax(predictions_pgd,axis=1)[pgd_idx[k]]== 7:\n",
    "        pgd_target.append(k)"
   ]
  },
  {
   "cell_type": "code",
   "execution_count": null,
   "id": "b72bdefe",
   "metadata": {},
   "outputs": [],
   "source": [
    "plt.figure(figsize=(10,10))\n",
    "\n",
    "for i in range (50):\n",
    "    jsma = jsma_idx[jsma_target[i]]\n",
    "    ax = plt.subplot(5, 10, i+1)\n",
    "    plt.imshow(x_test_JSMA_MNIST[jsma], cmap='gray')\n",
    "    ax.set_title('{:}'.format(np.argmax(predictions_jsma,axis=1)[jsma]))\n",
    "    plt.axis(\"off\")"
   ]
  },
  {
   "cell_type": "code",
   "execution_count": null,
   "id": "59768bf8",
   "metadata": {},
   "outputs": [],
   "source": [
    "cln = cln_idx[cln_target[0]] \n",
    "bim = bim_idx[bim_target[0]] \n",
    "jsma = jsma_idx[jsma_target[8]] \n",
    "deep = deep_idx[deep_target[12]] \n",
    "newton = newton_idx[newton_target[1]] \n",
    "pgd = pgd_idx[pgd_target[0]]"
   ]
  },
  {
   "cell_type": "code",
   "execution_count": null,
   "id": "3f65d97a",
   "metadata": {},
   "outputs": [],
   "source": [
    "# Plot JPEG Compression\n",
    "plt.figure(figsize=(10,10))\n",
    "\n",
    "\n",
    "#Plot original image\n",
    "ax = plt.subplot(6, 4, 1)\n",
    "plt.imshow(x_test_cln[cln], cmap='gray')\n",
    "ax.set_xlabel('{:}'.format(np.argmax(y_test_cln,axis=1)[cln]))\n",
    "ax.xaxis.set_label_position('top') \n",
    "ax.set_ylabel('Clean', fontsize=14, rotation=0, ha='right', va=\"center\", labelpad=15) \n",
    "ax.set_title('Original', fontsize=14, pad=25)\n",
    "\n",
    "\n",
    "\n",
    "ax = plt.subplot(6, 4, 1+4)\n",
    "plt.imshow(x_test_cln[bim], cmap='gray')\n",
    "ax.set_xlabel('{:}'.format(np.argmax(y_test_cln,axis=1)[bim]))\n",
    "ax.xaxis.set_label_position('top') \n",
    "ax.set_ylabel('BIM', fontsize=14, rotation=0, ha='right', va=\"center\", labelpad=15) \n",
    "# ax.set_xlabel('s')\n",
    "\n",
    "\n",
    "ax = plt.subplot(6, 4, 1+8)\n",
    "plt.imshow(x_test_cln[jsma], cmap='gray')\n",
    "ax.set_xlabel('{:}'.format(np.argmax(y_test_cln,axis=1)[jsma]))\n",
    "ax.xaxis.set_label_position('top') \n",
    "ax.set_ylabel('JSMA', fontsize=14, rotation=0, ha='right', va=\"center\", labelpad=15) \n",
    "# ax.set_xlabel('s')\n",
    "\n",
    "ax = plt.subplot(6, 4, 1+12)\n",
    "plt.imshow(x_test_cln[deep], cmap='gray')\n",
    "ax.set_xlabel('{:}'.format(np.argmax(y_test_cln,axis=1)[deep]))\n",
    "ax.xaxis.set_label_position('top') \n",
    "ax.set_ylabel('DeepFool', fontsize=14, rotation=0, ha='right', va=\"center\", labelpad=15) \n",
    "# ax.set_xlabel('s')\n",
    "\n",
    "\n",
    "ax = plt.subplot(6, 4, 1+16)\n",
    "plt.imshow(x_test_cln[newton], cmap='gray')\n",
    "ax.set_xlabel('{:}'.format(np.argmax(y_test_cln,axis=1)[newton]))\n",
    "ax.xaxis.set_label_position('top') \n",
    "ax.set_ylabel('NewtonFool', fontsize=14, rotation=0, ha='right', va=\"center\", labelpad=15) \n",
    "# ax.set_xlabel('s')\n",
    "\n",
    "ax = plt.subplot(6, 4, 1+20)\n",
    "plt.imshow(x_test_cln[pgd], cmap='gray')\n",
    "ax.set_xlabel('{:}'.format(np.argmax(y_test_cln,axis=1)[pgd]))\n",
    "ax.xaxis.set_label_position('top') \n",
    "ax.set_ylabel('PGD', fontsize=14, rotation=0, ha='right', va=\"center\", labelpad=15) \n",
    "# ax.set_xlabel('s')\n",
    "\n",
    "\n",
    "#Plot adversarial examples\n",
    "\n",
    "ax = plt.subplot(6, 4, 2)\n",
    "plt.imshow(x_test_cln[cln], cmap='gray')\n",
    "ax.set_xlabel('{:}'.format(np.argmax(y_test_cln,axis=1)[cln]))\n",
    "ax.xaxis.set_label_position('top') \n",
    "ax.set_title('Adversarial', fontsize=14, pad=25)\n",
    "\n",
    "\n",
    "\n",
    "ax = plt.subplot(6, 4, 2+4)\n",
    "plt.imshow(x_test_BIM_MNIST[bim], cmap='gray')\n",
    "ax.set_xlabel('{:}'.format(np.argmax(predictions_bim,axis=1)[bim]))\n",
    "ax.xaxis.set_label_position('top') \n",
    "\n",
    "\n",
    "ax = plt.subplot(6, 4, 2+8)\n",
    "plt.imshow(x_test_JSMA_MNIST[jsma], cmap='gray')\n",
    "ax.set_xlabel('{:}'.format(np.argmax(predictions_jsma,axis=1)[jsma]))\n",
    "ax.xaxis.set_label_position('top') \n",
    "\n",
    "ax = plt.subplot(6, 4, 2+12)\n",
    "plt.imshow(x_test_Deep_MNIST[deep], cmap='gray')\n",
    "ax.set_xlabel('{:}'.format(np.argmax(predictions_deep,axis=1)[deep]))\n",
    "ax.xaxis.set_label_position('top') \n",
    "\n",
    "ax = plt.subplot(6, 4, 2+16)\n",
    "plt.imshow(x_test_Newton_MNIST[newton], cmap='gray')\n",
    "ax.set_xlabel('{:}'.format(np.argmax(predictions_newton,axis=1)[newton]))\n",
    "ax.xaxis.set_label_position('top') \n",
    "\n",
    "ax = plt.subplot(6, 4, 2+20)\n",
    "plt.imshow(x_test_PGD_MNIST[pgd], cmap='gray')\n",
    "ax.set_xlabel('{:}'.format(np.argmax(predictions_pgd,axis=1)[pgd]))\n",
    "ax.xaxis.set_label_position('top') \n",
    "\n",
    "#Plot totalvarmin lambda=0.1\n",
    "ax = plt.subplot(6, 4, 3)\n",
    "plt.imshow(cln_jc3[cln], cmap='gray')\n",
    "ax.set_title('JPEG Compression\\nQuality = 3', fontsize=14, pad=25)\n",
    "ax.set_xlabel('{:}'.format(np.argmax(predictions_cln_jc3,axis=1)[cln]))\n",
    "ax.xaxis.set_label_position('top') \n",
    "\n",
    "\n",
    "\n",
    "ax = plt.subplot(6, 4, 3+4)\n",
    "plt.imshow(bim_jc3[bim], cmap='gray')\n",
    "ax.set_xlabel('{:}'.format(np.argmax(predictions_bim_jc3,axis=1)[bim]))\n",
    "ax.xaxis.set_label_position('top') \n",
    "\n",
    "ax = plt.subplot(6, 4, 3+8)\n",
    "plt.imshow(jsma_jc3[jsma], cmap='gray')\n",
    "ax.set_xlabel('{:}'.format(np.argmax(predictions_jsma_jc3,axis=1)[jsma]))\n",
    "ax.xaxis.set_label_position('top') \n",
    "\n",
    "ax = plt.subplot(6, 4, 3+12)\n",
    "plt.imshow(deep_jc3[deep], cmap='gray')\n",
    "ax.set_xlabel('{:}'.format(np.argmax(predictions_deep_jc3,axis=1)[deep]))\n",
    "ax.xaxis.set_label_position('top') \n",
    "\n",
    "ax = plt.subplot(6, 4, 3+16)\n",
    "plt.imshow(newton_jc3[newton], cmap='gray')\n",
    "ax.set_xlabel('{:}'.format(np.argmax(predictions_newton_jc3,axis=1)[newton]))\n",
    "ax.xaxis.set_label_position('top') \n",
    "\n",
    "ax = plt.subplot(6, 4, 3+20)\n",
    "plt.imshow(pgd_jc3[pgd], cmap='gray')\n",
    "ax.set_xlabel('{:}'.format(np.argmax(predictions_pgd_jc3,axis=1)[pgd]))\n",
    "ax.xaxis.set_label_position('top') \n",
    "\n",
    "#Plot totalvarmin lambda=0.5\n",
    "ax = plt.subplot(6, 4, 4)\n",
    "plt.imshow(cln_jc5[cln], cmap='gray')\n",
    "ax.set_xlabel('{:}'.format(np.argmax(predictions_cln_jc5,axis=1)[cln]))\n",
    "ax.xaxis.set_label_position('top') \n",
    "ax.set_title('JPEG Compression\\nQuality = 5', fontsize=14, pad=25)\n",
    "\n",
    "\n",
    "ax = plt.subplot(6, 4, 4+4)\n",
    "plt.imshow(bim_jc5[bim], cmap='gray')\n",
    "ax.set_xlabel('{:}'.format(np.argmax(predictions_bim_jc5,axis=1)[bim]))\n",
    "ax.xaxis.set_label_position('top') \n",
    "\n",
    "ax = plt.subplot(6, 4, 4+8)\n",
    "plt.imshow(jsma_jc5[jsma], cmap='gray')\n",
    "ax.set_xlabel('{:}'.format(np.argmax(predictions_jsma_jc5,axis=1)[jsma]))\n",
    "ax.xaxis.set_label_position('top') \n",
    "\n",
    "ax = plt.subplot(6, 4, 4+12)\n",
    "plt.imshow(deep_jc5[deep], cmap='gray')\n",
    "ax.set_xlabel('{:}'.format(np.argmax(predictions_deep_jc5,axis=1)[deep]))\n",
    "ax.xaxis.set_label_position('top') \n",
    "\n",
    "ax = plt.subplot(6, 4, 4+16)\n",
    "plt.imshow(newton_jc5[newton], cmap='gray')\n",
    "ax.set_xlabel('{:}'.format(np.argmax(predictions_newton_jc5,axis=1)[newton]))\n",
    "ax.xaxis.set_label_position('top') \n",
    "\n",
    "ax = plt.subplot(6, 4, 4+20)\n",
    "plt.imshow(pgd_jc5[pgd], cmap='gray')\n",
    "ax.set_xlabel('{:}'.format(np.argmax(predictions_pgd_jc5,axis=1)[pgd]))\n",
    "ax.xaxis.set_label_position('top') \n",
    "\n",
    "plt.setp(plt.gcf().get_axes(), xticks=[], yticks=[])\n",
    "\n",
    "\n",
    "image_path = '/home/cyber/Desktop/Adrian/Plots/JpegCompression_MNIST_reference.png'\n",
    "plt.savefig(image_path, dpi=500, transparent=True)                       \n",
    "plt.tight_layout()\n",
    "plt.show()"
   ]
  },
  {
   "cell_type": "code",
   "execution_count": 21,
   "id": "5f68430b",
   "metadata": {},
   "outputs": [
    {
     "data": {
      "image/png": "[encoded data removed]",
      "text/plain": [
       "<Figure size 720x720 with 6 Axes>"
      ]
     },
     "metadata": {},
     "output_type": "display_data"
    }
   ],
   "source": [
    "fig, axs = plt.subplots(1,6, figsize=(10,10))\n",
    "num=62\n",
    "\n",
    "axs[0].imshow(x_test_cln[num], cmap='gray')\n",
    "axs[0].set_title('Clean')\n",
    "# axs[0].axis(\"off\")\n",
    "axs[0].set_frame_on(False)\n",
    "axs[0].set_xlabel('{:}'.format(np.argmax(predictions_cln,axis=1)[num]))\n",
    "\n",
    "axs[1].imshow(x_test_BIM_MNIST[num], cmap='gray')\n",
    "axs[1].set_title('BIM')\n",
    "# axs[1].axis(\"off\")\n",
    "axs[1].set_frame_on(False)\n",
    "axs[1].set_xlabel('{:}'.format(np.argmax(predictions_bim,axis=1)[num]))\n",
    "\n",
    "axs[2].imshow(x_test_JSMA_MNIST[num], cmap='gray')\n",
    "axs[2].set_title('JSMA')\n",
    "# axs[2].axis(\"off\")\n",
    "axs[2].set_frame_on(False)\n",
    "axs[2].set_xlabel('{:}'.format(np.argmax(predictions_jsma,axis=1)[num]))\n",
    "\n",
    "axs[3].imshow(x_test_Deep_MNIST[num], cmap='gray')\n",
    "axs[3].set_title('DeepFool')\n",
    "# axs[3].axis(\"off\")\n",
    "axs[3].set_frame_on(False)\n",
    "axs[3].set_xlabel('{:}'.format(np.argmax(predictions_deep,axis=1)[num]))\n",
    "\n",
    "axs[4].imshow(x_test_Newton_MNIST[num], cmap='gray')\n",
    "axs[4].set_title('NewtonFool')\n",
    "# axs[4].axis(\"off\")\n",
    "axs[4].set_frame_on(False)\n",
    "axs[4].set_xlabel('{:}'.format(np.argmax(predictions_newton,axis=1)[num]))\n",
    "\n",
    "axs[5].imshow(x_test_PGD_MNIST[num], cmap='gray')\n",
    "axs[5].set_title('PGD')\n",
    "# axs[5].axis(\"off\")\n",
    "axs[5].set_frame_on(False)\n",
    "axs[5].set_xlabel('{:}'.format(np.argmax(predictions_pgd,axis=1)[num]))\n",
    "\n",
    "plt.setp(plt.gcf().get_axes(), xticks=[], yticks=[])\n",
    "\n",
    "image_path = '/home/cyber/Desktop/Adrian/Plots/Adversarial Attacks_MNIST_reference.png'\n",
    "plt.savefig(image_path, dpi=500, transparent=True)                       \n",
    "plt.tight_layout()\n",
    "plt.show()"
   ]
  },
  {
   "cell_type": "code",
   "execution_count": null,
   "id": "de60f370",
   "metadata": {},
   "outputs": [],
   "source": [
    "fig, axs = plt.subplots(2, 4, figsize=(10,10))\n",
    "\n",
    "axs[0].imshow(x_test_cln[num], cmap='gray')\n",
    "axs[0].set_title('Clean')\n",
    "# axs[0].axis(\"off\")\n",
    "axs[0].set_frame_on(False)\n",
    "axs[0].set_xlabel('{:}'.format(np.argmax(predictions_cln,axis=1)[num]))\n",
    "\n",
    "axs[1].imshow(x_test_BIM_MNIST[num], cmap='gray')\n",
    "axs[1].set_title('BIM')\n",
    "# axs[1].axis(\"off\")\n",
    "axs[1].set_frame_on(False)\n",
    "axs[1].set_xlabel('{:}'.format(np.argmax(predictions_bim,axis=1)[num]))\n",
    "\n",
    "axs[2].imshow(x_test_JSMA_MNIST[num], cmap='gray')\n",
    "axs[2].set_title('JSMA')\n",
    "# axs[2].axis(\"off\")\n",
    "axs[2].set_frame_on(False)\n",
    "axs[2].set_xlabel('{:}'.format(np.argmax(predictions_jsma,axis=1)[num]))\n",
    "\n",
    "axs[3].imshow(x_test_Deep_MNIST[num], cmap='gray')\n",
    "axs[3].set_title('DeepFool')\n",
    "# axs[3].axis(\"off\")\n",
    "axs[3].set_frame_on(False)\n",
    "axs[3].set_xlabel('{:}'.format(np.argmax(predictions_deep,axis=1)[num]))\n",
    "\n",
    "axs[4].imshow(x_test_Newton_MNIST[num], cmap='gray')\n",
    "axs[4].set_title('NewtonFool')\n",
    "# axs[4].axis(\"off\")\n",
    "axs[4].set_frame_on(False)\n",
    "axs[4].set_xlabel('{:}'.format(np.argmax(predictions_newton,axis=1)[num]))\n",
    "\n",
    "axs[5].imshow(x_test_PGD_MNIST[num], cmap='gray')\n",
    "axs[5].set_title('PGD')\n",
    "# axs[5].axis(\"off\")\n",
    "axs[5].set_frame_on(False)\n",
    "axs[5].set_xlabel('{:}'.format(np.argmax(predictions_pgd,axis=1)[num]))\n",
    "\n",
    "plt.setp(plt.gcf().get_axes(), xticks=[], yticks=[])\n",
    "\n",
    "image_path = '/home/cyber/Desktop/Adrian/Plots/Adversarial Attacks_MNIST_reference.png'\n",
    "plt.savefig(image_path, dpi=500, transparent=True)                       \n",
    "plt.tight_layout()\n",
    "plt.show() "
   ]
  },
  {
   "cell_type": "code",
   "execution_count": 145,
   "id": "55e16036",
   "metadata": {},
   "outputs": [
    {
     "data": {
      "image/png": "[encoded data removed]",
      "text/plain": [
       "<Figure size 720x720 with 8 Axes>"
      ]
     },
     "metadata": {},
     "output_type": "display_data"
    }
   ],
   "source": [
    "# Plot images before and after JPEG Compression\n",
    "fig, axs = plt.subplots(2, 4, figsize=(10,10))\n",
    "\n",
    "# Plot x-axis labels\n",
    "axs[0,0].set_title('Clean TP', va='center', ha='center', pad=15, fontsize=15)\n",
    "axs[0,1].set_title('Clean FP', va='center', ha='center', pad=15, fontsize=15)\n",
    "axs[0,2].set_title('Adversarial TP', va='center', ha='center', pad=15, fontsize=15)\n",
    "axs[0,3].set_title('Adversarial FP', va='center', ha='center', pad=15, fontsize=15)\n",
    "\n",
    "\n",
    "# Plot y-axis labels\n",
    "axs[0,0].set_ylabel('Before JPEG\\nCompression', rotation=0, va='center', ha='right', labelpad=15, fontsize=15)\n",
    "axs[1,0].set_ylabel('After JPEG\\nCompression', rotation=0, va='center', ha='right', labelpad=15, fontsize=15)\n",
    "\n",
    "\n",
    "# Plot clean true positives\n",
    "axs[0,0].imshow(x_test_cln_tp[succ_cln_tp_idx[0]], cmap='gray')\n",
    "axs[0,0].set_xlabel('{:}'.format(np.argmax(predictions_cln_tp,axis=1)[succ_cln_tp_idx[0]]), labelpad=5, fontsize=12)\n",
    "\n",
    "axs[1,0].imshow(x_test_cln_tp_jc[succ_cln_tp_idx[0]], cmap='gray')\n",
    "axs[1,0].set_xlabel('{:}'.format(np.argmax(predictions_cln_tp_jc,axis=1)[succ_cln_tp_idx[0]]), labelpad=5, fontsize=12)\n",
    "\n",
    "\n",
    "# Plot clean false positives\n",
    "axs[0,1].imshow(x_test_cln_fp[succ_cln_fp_idx[0]], cmap='gray')\n",
    "axs[0,1].set_xlabel('{:} (Correct class: {:})'.format(np.argmax(predictions_cln_fp,axis=1)[succ_cln_fp_idx[0]], np.argmax(y_test_cln_fp,axis=1)[succ_cln_fp_idx[0]]),labelpad=5, fontsize=12)\n",
    "\n",
    "axs[1,1].imshow(x_test_cln_fp_jc[succ_cln_fp_idx[0]], cmap='gray')\n",
    "axs[1,1].set_xlabel('{:} (Correct class: {:})'.format(np.argmax(predictions_cln_fp_jc,axis=1)[succ_cln_fp_idx[0]], np.argmax(y_test_cln_fp,axis=1)[succ_cln_fp_idx[0]]),labelpad=5, fontsize=12)\n",
    "\n",
    "\n",
    "# Plot adversarial true positives\n",
    "axs[0,2].imshow(x_test_adv_tp[succ_adv_tp_idx[0]], cmap='gray')\n",
    "axs[0,2].set_xlabel('{:}'.format(np.argmax(predictions_adv_tp,axis=1)[succ_adv_tp_idx[0]]),labelpad=5, fontsize=12)\n",
    "\n",
    "axs[1,2].imshow(x_test_adv_tp_jc[succ_adv_tp_idx[0]], cmap='gray')\n",
    "axs[1,2].set_xlabel('{:}'.format(np.argmax(predictions_adv_tp_jc,axis=1)[succ_adv_tp_idx[0]]),labelpad=5, fontsize=12)\n",
    "\n",
    "\n",
    "# Plot adversarial false positivies\n",
    "axs[0,3].imshow(x_test_adv_fp[succ_adv_fp_idx[0]], cmap='gray')\n",
    "axs[0,3].set_xlabel('{:} (Correct class: {:})'.format(np.argmax(predictions_adv_fp,axis=1)[succ_adv_fp_idx[0]], np.argmax(y_test_adv_fp,axis=1)[succ_adv_fp_idx[0]]),labelpad=5, fontsize=12)\n",
    "\n",
    "axs[1,3].imshow(x_test_adv_fp_jc[succ_adv_fp_idx[0]], cmap='gray')\n",
    "axs[1,3].set_xlabel('{:} (Correct class: {:})'.format(np.argmax(predictions_adv_fp_jc,axis=1)[succ_adv_fp_idx[0]], np.argmax(y_test_adv_fp,axis=1)[succ_adv_fp_idx[0]]),labelpad=5, fontsize=12)\n",
    "\n",
    "\n",
    "# Turn off axis for all plots\n",
    "plt.setp(plt.gcf().get_axes(), xticks=[], yticks=[])\n",
    "\n",
    "\n",
    "# Adjusting space between subplots\n",
    "plt.tight_layout()\n",
    "fig.subplots_adjust(top=0.6)\n",
    "\n",
    "\n",
    "# Save and show image\n",
    "image_path = '/home/cyber/Desktop/Adrian/Plots/JpegCompression_Quality={:}_MNIST_{:}.png'.format(parameter, attack_name)\n",
    "plt.savefig(image_path, dpi=500, transparent=True, bbox_inches='tight')\n",
    "plt.show()"
   ]
  },
  {
   "cell_type": "code",
   "execution_count": null,
   "id": "896e87ea",
   "metadata": {},
   "outputs": [],
   "source": []
  }
 ],
 "metadata": {
  "kernelspec": {
   "display_name": "Python 3",
   "language": "python",
   "name": "python3"
  },
  "language_info": {
   "codemirror_mode": {
    "name": "ipython",
    "version": 3
   },
   "file_extension": ".py",
   "mimetype": "text/x-python",
   "name": "python",
   "nbconvert_exporter": "python",
   "pygments_lexer": "ipython3",
   "version": "3.7.10"
  }
 },
 "nbformat": 4,
 "nbformat_minor": 5
}

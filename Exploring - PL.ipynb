{
 "cells": [
  {
   "cell_type": "markdown",
   "id": "256084fa",
   "metadata": {},
   "source": [
    "In this notebook we explore the effects of white-box evasion attacks on the MNIST/CIFAR-10 datasets, as well as several metrics and defences - the latter encompassing image preprocessing (i.e. input transformations) and adversarial training."
   ]
  },
  {
   "cell_type": "markdown",
   "id": "33dbf7b5",
   "metadata": {},
   "source": [
    "**Load prerequisites**"
   ]
  },
  {
   "cell_type": "code",
   "execution_count": 1,
   "id": "5d608e9b",
   "metadata": {},
   "outputs": [],
   "source": [
    "import tensorflow as tf\n",
    "from tensorflow import keras\n",
    "from tensorflow.keras.models import Sequential, load_model\n",
    "from tensorflow.keras.layers import Dense, Flatten, Conv2D, MaxPooling2D, Activation, Dropout\n",
    "from tensorflow.keras.preprocessing.image import ImageDataGenerator\n",
    "from tensorflow.keras.datasets import cifar10\n",
    "\n",
    "import numpy as np\n",
    "import matplotlib.pyplot as plt\n",
    "\n",
    "\n",
    "from art import config\n",
    "from art.attacks.evasion import FastGradientMethod, DeepFool, ProjectedGradientDescent, SaliencyMapMethod, CarliniL2Method, NewtonFool, BasicIterativeMethod\n",
    "from art.defences.preprocessor import TotalVarMin, SpatialSmoothing, PixelDefend, FeatureSqueezing\n",
    "from art.defences.trainer import AdversarialTrainer\n",
    "from art.estimators.classification import KerasClassifier\n",
    "from art.metrics import empirical_robustness, clever_u\n",
    "from art.data_generators import KerasDataGenerator\n",
    "from art.utils import load_mnist, load_cifar10, load_dataset"
   ]
  },
  {
   "cell_type": "markdown",
   "id": "cebb60f8",
   "metadata": {},
   "source": [
    "**Check if GPU is being used**"
   ]
  },
  {
   "cell_type": "code",
   "execution_count": 2,
   "id": "3cb17782",
   "metadata": {},
   "outputs": [
    {
     "name": "stdout",
     "output_type": "stream",
     "text": [
      "[name: \"/device:CPU:0\"\n",
      "device_type: \"CPU\"\n",
      "memory_limit: 268435456\n",
      "locality {\n",
      "}\n",
      "incarnation: 17020789558048544527\n",
      ", name: \"/device:XLA_CPU:0\"\n",
      "device_type: \"XLA_CPU\"\n",
      "memory_limit: 17179869184\n",
      "locality {\n",
      "}\n",
      "incarnation: 6413754618500131531\n",
      "physical_device_desc: \"device: XLA_CPU device\"\n",
      ", name: \"/device:GPU:0\"\n",
      "device_type: \"GPU\"\n",
      "memory_limit: 3127299276\n",
      "locality {\n",
      "  bus_id: 1\n",
      "  links {\n",
      "  }\n",
      "}\n",
      "incarnation: 5706401025126249734\n",
      "physical_device_desc: \"device: 0, name: NVIDIA GeForce GTX 1050 Ti with Max-Q Design, pci bus id: 0000:01:00.0, compute capability: 6.1\"\n",
      ", name: \"/device:XLA_GPU:0\"\n",
      "device_type: \"XLA_GPU\"\n",
      "memory_limit: 17179869184\n",
      "locality {\n",
      "}\n",
      "incarnation: 11034952047944254353\n",
      "physical_device_desc: \"device: XLA_GPU device\"\n",
      "]\n"
     ]
    }
   ],
   "source": [
    "from tensorflow.python.client import device_lib\n",
    "print(device_lib.list_local_devices())"
   ]
  },
  {
   "cell_type": "markdown",
   "id": "e58648ad",
   "metadata": {},
   "source": [
    "**Load MNIST dataset**"
   ]
  },
  {
   "cell_type": "code",
   "execution_count": 3,
   "id": "2aa87dae",
   "metadata": {},
   "outputs": [],
   "source": [
    "#MNIST#ataset\n",
    "(x_train, y_train), (x_test, y_test), min_pixel_value, max_pixel_value = load_mnist()\n",
    "#x_train, y_train = x_train[:10000], y_train[:10000]\n",
    "#x_test, y_test = x_test[:500], y_test[:500]"
   ]
  },
  {
   "cell_type": "markdown",
   "id": "413c21fd",
   "metadata": {},
   "source": [
    "**Load CIFAR-10 dataset**"
   ]
  },
  {
   "cell_type": "code",
   "execution_count": 16,
   "id": "e8b893a2",
   "metadata": {},
   "outputs": [],
   "source": [
    "# CIFAR-10 dataset\n",
    "#path = get_file('cifar-10-batches-py.h5', extract=False, verbose=True, path=config.ART_DATA_PATH,\n",
    "#                 url='https://www.cs.toronto.edu/~kriz/cifar-10-python.tar.gz')\n",
    "(x_train, y_train), (x_test, y_test), min_pixel_value, max_pixel_value = load_cifar10()\n",
    "\n",
    "#(x_train, y_train), (x_test, y_test), min_pixel_value, max_pixel_value = load_cifar10()\n",
    "# #x_train, y_train = x_train[:5000], y_train[:5000]\n",
    "#x_test, y_test = x_test[:100], y_test[:100]"
   ]
  },
  {
   "cell_type": "markdown",
   "id": "012f0f0b",
   "metadata": {},
   "source": [
    "**Modification: Disabling eager execution to enable Section 1, Step 3**"
   ]
  },
  {
   "cell_type": "code",
   "execution_count": 4,
   "id": "87648805",
   "metadata": {
    "scrolled": true
   },
   "outputs": [],
   "source": [
    "tf.compat.v1.disable_eager_execution()"
   ]
  },
  {
   "cell_type": "markdown",
   "id": "7dc077ab",
   "metadata": {},
   "source": [
    "**Section 1 - Attacks**"
   ]
  },
  {
   "cell_type": "markdown",
   "id": "070c4a58",
   "metadata": {},
   "source": [
    "Step 1: Load/Create the classifier model "
   ]
  },
  {
   "cell_type": "code",
   "execution_count": 25,
   "id": "e8ddd668",
   "metadata": {},
   "outputs": [],
   "source": [
    "#path = get_file('mnist_cnn_original.h5', extract=False, path=config.ART_DATA_PATH,\n",
    "#                url='https://www.dropbox.com/s/p2nyzne9chcerid/mnist_cnn_original.h5?dl=1')\n",
    "\n",
    "#model = load_model(\"/home/cyber/basicmodel.h5\")\n",
    "#model = load_model(\"home/cyber/cifar10trainedmodel.h5\")\n",
    "#model = load_model(path)\n",
    "\n",
    "classifier = KerasClassifier(model=model, clip_values=(min_pixel_value, max_pixel_value), use_logits=False)"
   ]
  },
  {
   "cell_type": "markdown",
   "id": "141f6bd9",
   "metadata": {},
   "source": [
    "Optional step: Train and save the ART classifier for future use"
   ]
  },
  {
   "cell_type": "code",
   "execution_count": 26,
   "id": "55cabb29",
   "metadata": {},
   "outputs": [
    {
     "name": "stdout",
     "output_type": "stream",
     "text": [
      "Epoch 1/10\n",
      "781/781 [==============================] - 4s 6ms/step - batch: 390.0000 - size: 64.0000 - loss: 1.5593 - accuracy: 0.4285\n",
      "Epoch 2/10\n",
      "781/781 [==============================] - 5s 6ms/step - batch: 390.0000 - size: 64.0000 - loss: 1.1913 - accuracy: 0.5769\n",
      "Epoch 3/10\n",
      "781/781 [==============================] - 5s 6ms/step - batch: 390.0000 - size: 64.0000 - loss: 1.0454 - accuracy: 0.6348\n",
      "Epoch 4/10\n",
      "781/781 [==============================] - 6s 7ms/step - batch: 390.0000 - size: 64.0000 - loss: 0.9453 - accuracy: 0.6697\n",
      "Epoch 5/10\n",
      "781/781 [==============================] - 5s 7ms/step - batch: 390.0000 - size: 64.0000 - loss: 0.8820 - accuracy: 0.6929\n",
      "Epoch 6/10\n",
      "781/781 [==============================] - 5s 6ms/step - batch: 390.0000 - size: 64.0000 - loss: 0.8258 - accuracy: 0.7130\n",
      "Epoch 7/10\n",
      "781/781 [==============================] - 5s 7ms/step - batch: 390.0000 - size: 64.0000 - loss: 0.7809 - accuracy: 0.7264\n",
      "Epoch 8/10\n",
      "781/781 [==============================] - 5s 6ms/step - batch: 390.0000 - size: 64.0000 - loss: 0.7321 - accuracy: 0.7462\n",
      "Epoch 9/10\n",
      "781/781 [==============================] - 5s 6ms/step - batch: 390.0000 - size: 64.0000 - loss: 0.6999 - accuracy: 0.7586\n",
      "Epoch 10/10\n",
      "781/781 [==============================] - 5s 6ms/step - batch: 390.0000 - size: 64.0000 - loss: 0.6644 - accuracy: 0.7658\n"
     ]
    }
   ],
   "source": [
    "classifier.fit(x_train, y_train, batch_size=64, nb_epochs=10)"
   ]
  },
  {
   "cell_type": "code",
   "execution_count": 21,
   "id": "399ff0b6",
   "metadata": {},
   "outputs": [],
   "source": [
    "classifier.save(\"/home/cyber/cifar10_trained_model.h5\")"
   ]
  },
  {
   "cell_type": "markdown",
   "id": "54ec9dd4",
   "metadata": {},
   "source": [
    "Step 2: Evaluate the ART classifier on benign test examples"
   ]
  },
  {
   "cell_type": "code",
   "execution_count": 22,
   "id": "1362d452",
   "metadata": {},
   "outputs": [
    {
     "name": "stdout",
     "output_type": "stream",
     "text": [
      "Undefended classifier\n",
      "Accuracy on benign test examples: 73.9%\n"
     ]
    }
   ],
   "source": [
    "predictions = classifier.predict(x_test)\n",
    "accuracy = np.sum(np.argmax(predictions, axis=1) == np.argmax(y_test, axis=1)) / len(y_test)\n",
    "\n",
    "print(\"Undefended classifier\")\n",
    "print(\"Accuracy on benign test examples: {}%\".format(accuracy * 100))"
   ]
  },
  {
   "cell_type": "markdown",
   "id": "334b91dd",
   "metadata": {},
   "source": [
    "Step 3: Craft adversarial examples"
   ]
  },
  {
   "cell_type": "code",
   "execution_count": 41,
   "id": "96d69560",
   "metadata": {},
   "outputs": [],
   "source": [
    "#adv_crafter = SaliencyMapMethod(classifier=classifier, theta = 1, verbose=True)\n",
    "#adv_crafter = ProjectedGradientDescent(classifier, eps=0.2)\n",
    "adv_crafter = FastGradientMethod(estimator=classifier, eps=8/255)\n",
    "#adv_crafter = DeepFool(classifier=classifier, epsilon=0.2)\n",
    "#adv_crafter = NewtonFool(classifier=classifier, verbose=True)\n",
    "#adv_crafter = CarliniL2Method(classifier=classifier, verbose=True)\n",
    "#adv_crafter = BasicIterativeMethod(classifier, eps=0.3, eps_step=0.01, max_iter=40)\n",
    "\n",
    "#x_train_adv = adv_crafter.generate(x_train)\n",
    "x_test_adv = adv_crafter.generate(x_test)\n"
   ]
  },
  {
   "cell_type": "markdown",
   "id": "b93f4a5f",
   "metadata": {},
   "source": [
    "Step 4: Evaluate the ART classifier on the adversarial test set"
   ]
  },
  {
   "cell_type": "code",
   "execution_count": 42,
   "id": "ee462839",
   "metadata": {},
   "outputs": [
    {
     "name": "stdout",
     "output_type": "stream",
     "text": [
      "Undefended classifier\n",
      "Accuracy on adversarial test examples: 17.06%\n"
     ]
    }
   ],
   "source": [
    "predictions = classifier.predict(x_test_adv)\n",
    "accuracy = np.sum(np.argmax(predictions, axis=1) == np.argmax(y_test, axis=1)) / len(y_test)\n",
    "print(\"Undefended classifier\")\n",
    "print(\"Accuracy on adversarial test examples: {}%\".format(accuracy * 100))"
   ]
  },
  {
   "cell_type": "markdown",
   "id": "d1ce3b44",
   "metadata": {},
   "source": [
    "Optional step: Plot images and their adversarial counterparts for reference"
   ]
  },
  {
   "cell_type": "code",
   "execution_count": 45,
   "id": "9fb593b7",
   "metadata": {},
   "outputs": [
    {
     "data": {
      "image/png": "[encoded data removed]",
      "text/plain": [
       "<Figure size 720x720 with 20 Axes>"
      ]
     },
     "metadata": {
      "needs_background": "light"
     },
     "output_type": "display_data"
    },
    {
     "name": "stdout",
     "output_type": "stream",
     "text": [
      "[3 8 8 0 6 6 1 6 3 1]\n",
      "[5 1 9 8 6 7 9 4 7 9]\n"
     ]
    }
   ],
   "source": [
    "num = 10\n",
    "images = x_test[:num]\n",
    "adv_examples = x_test_adv[:num]\n",
    "#labels = y_train[:num]\n",
    "\n",
    "#plot images\n",
    "plt.figure(figsize=(10, 10))\n",
    "\n",
    "for i in range(num):\n",
    "    ax = plt.subplot(4, 5, i + 1)\n",
    "    plt.imshow(images[i], cmap='gray')\n",
    "    plt.axis(\"off\")\n",
    "    ax = plt.subplot(4, 5, i + 11)\n",
    "    plt.imshow(adv_examples[i], cmap='gray')\n",
    "    plt.axis(\"off\")\n",
    "    \n",
    "    #plt.title('Label: {:}'.format(labels[i]))\n",
    "    #ax.set_title('Label: {}'.format(labels[i]))\n",
    "    \n",
    "plt.tight_layout()\n",
    "plt.show()\n",
    "\n",
    "print(np.argmax(y_test,axis=1)[:10])\n",
    "print(np.argmax(predictions,axis=1)[:10])"
   ]
  },
  {
   "cell_type": "markdown",
   "id": "ed6edf76",
   "metadata": {},
   "source": [
    "**Section 2 - Metrics**"
   ]
  },
  {
   "cell_type": "markdown",
   "id": "ed8079bc",
   "metadata": {},
   "source": [
    "Metric 1: Empirical Robustness"
   ]
  },
  {
   "cell_type": "code",
   "execution_count": null,
   "id": "8be695d3",
   "metadata": {},
   "outputs": [],
   "source": [
    "attack_name = \"fgsm\"\n",
    "score = empirical_robustness(classifier=classifier, x=x_test, attack_name=attack_name)\n",
    "print(\"Empirical robustness of the classifier against {}: {}\".format(attack_name, score))"
   ]
  },
  {
   "cell_type": "markdown",
   "id": "0a8461bb",
   "metadata": {},
   "source": [
    "Metric 2: CLEVER"
   ]
  },
  {
   "cell_type": "code",
   "execution_count": null,
   "id": "65095118",
   "metadata": {},
   "outputs": [],
   "source": [
    "score = clever_u(classifier=classifier, x=x_test[1], nb_batches=10, batch_size=64, radius=25,norm=2)\n",
    "print(\"CLEVER score of the classifier against an untargeted attack: {}\".format(score))"
   ]
  },
  {
   "cell_type": "markdown",
   "id": "0a800d61",
   "metadata": {},
   "source": [
    "**Section 3 - Defence**"
   ]
  },
  {
   "cell_type": "markdown",
   "id": "ce732bc2",
   "metadata": {},
   "source": [
    "Save original adversarial examples for reference"
   ]
  },
  {
   "cell_type": "code",
   "execution_count": null,
   "id": "84509e60",
   "metadata": {},
   "outputs": [],
   "source": [
    "x_test_adv_original = x_test_adv"
   ]
  },
  {
   "cell_type": "markdown",
   "id": "f8da4ba2",
   "metadata": {},
   "source": [
    "Creating a seperate 'robust' classifier, to enable side-by-sde analysis of both the original and defended model"
   ]
  },
  {
   "cell_type": "code",
   "execution_count": null,
   "id": "e3f3b606",
   "metadata": {},
   "outputs": [],
   "source": [
    "model = load_model(\"/home/cyber/basicmodel.h5\")\n",
    "robust_classifier = KerasClassifier(model=model, clip_values=(min_pixel_value, max_pixel_value), use_logits=False)"
   ]
  },
  {
   "cell_type": "markdown",
   "id": "d8d97aeb",
   "metadata": {},
   "source": [
    "Defence 1: Preprocessing"
   ]
  },
  {
   "cell_type": "markdown",
   "id": "534f8fb1",
   "metadata": {},
   "source": [
    "Step 1: Input transformation"
   ]
  },
  {
   "cell_type": "code",
   "execution_count": null,
   "id": "737293cc",
   "metadata": {},
   "outputs": [],
   "source": [
    "#defence = TotalVarMin(verbose = True)\n",
    "defence = SpatialSmoothing(window_size=5)\n",
    "#defence = PixelDefend(clip_values=(min_pixel_value, max_pixel_value), eps=16, pixel_cnn = robust_classifier, verbose=True)\n",
    "#defence = FeatureSqueezing(clip_values=(min_pixel_value, max_pixel_value), bit_depth=8)\n",
    "\n",
    "x_test_adv = defence(x_test_adv_original * 255)[0] / 255\n",
    "\n",
    "#what does * 255)[0] / 255 do?"
   ]
  },
  {
   "cell_type": "markdown",
   "id": "bd8236f2",
   "metadata": {},
   "source": [
    "Additional step: Plot images and their adversarial counterparts, pre- and post-transformed, for reference"
   ]
  },
  {
   "cell_type": "code",
   "execution_count": null,
   "id": "b7ee10bb",
   "metadata": {},
   "outputs": [],
   "source": [
    "num = 10\n",
    "images = x_test[:num]\n",
    "transformed_adv_examples = x_test_adv[:num]\n",
    "pretransformed_adv_examples = x_test_adv_original[:num]\n",
    "#labels = y_train[:num]\n",
    "\n",
    "#plot images\n",
    "plt.figure(figsize=(10, 10))\n",
    "\n",
    "for i in range(num):\n",
    "    ax = plt.subplot(6, 5, i + 1)\n",
    "    plt.imshow(images[i], cmap='gray')\n",
    "    plt.axis(\"off\")\n",
    "    \n",
    "    ax = plt.subplot(6, 5, i + 11)\n",
    "    plt.imshow(pretransformed_adv_examples[i], cmap='gray')\n",
    "    plt.axis(\"off\")\n",
    "    \n",
    "    ax = plt.subplot(6, 5, i + 21)\n",
    "    plt.imshow(transformed_adv_examples[i], cmap='gray')\n",
    "    plt.axis(\"off\")\n",
    "    \n",
    "    #plt.title('Label: {:}'.format(labels[i]))\n",
    "    #ax.set_title('Label: {}'.format(labels[i]))\n",
    "    \n",
    "plt.tight_layout()\n",
    "plt.show()"
   ]
  },
  {
   "cell_type": "markdown",
   "id": "4ddddb87",
   "metadata": {},
   "source": [
    "Defence 2: Adversarial Training"
   ]
  },
  {
   "cell_type": "markdown",
   "id": "e18a07c3",
   "metadata": {},
   "source": [
    "Adversarial Training: Method 1 - Data Generators"
   ]
  },
  {
   "cell_type": "markdown",
   "id": "4fa876a9",
   "metadata": {},
   "source": [
    "Step 1: Build a Keras image augmentation object and wrap it in ART"
   ]
  },
  {
   "cell_type": "code",
   "execution_count": null,
   "id": "fb8c53f8",
   "metadata": {},
   "outputs": [],
   "source": [
    "batch_size = 50\n",
    "datagen = ImageDataGenerator(\n",
    "    width_shift_range=0.125, height_shift_range=0.125, fill_mode=\"constant\", cval=0.0\n",
    ")\n",
    "datagen.fit(x_train)\n",
    "art_datagen = KerasDataGenerator(\n",
    "    datagen.flow(x=x_train, y=y_train, batch_size=batch_size, shuffle=True),\n",
    "    size=x_train.shape[0],\n",
    "    batch_size=batch_size,\n",
    ")"
   ]
  },
  {
   "cell_type": "markdown",
   "id": "fc317b32",
   "metadata": {},
   "source": [
    "Step 2: Create adversarial trainer"
   ]
  },
  {
   "cell_type": "code",
   "execution_count": null,
   "id": "f42a025e",
   "metadata": {},
   "outputs": [],
   "source": [
    "#adv_crafter = BasicIterativeMethod(robust_classifier, eps=0.3, eps_step=0.01, max_iter=40)\n",
    "adv_trainer = AdversarialTrainer(classifier=robust_classifier, attacks=adv_crafter, ratio=1.0)"
   ]
  },
  {
   "cell_type": "markdown",
   "id": "d7d22da0",
   "metadata": {},
   "source": [
    "Step 3: Perform adversarial training"
   ]
  },
  {
   "cell_type": "code",
   "execution_count": null,
   "id": "f9b84fcb",
   "metadata": {},
   "outputs": [],
   "source": [
    "#adv_trainer.fit_generator(generator=art_datagen, nb_epochs=5)\n",
    "adv_trainer.fit(x_train, y_train, nb_epochs=5, batch_size=50)"
   ]
  },
  {
   "cell_type": "markdown",
   "id": "61df702a",
   "metadata": {},
   "source": [
    "Optional step: Save the adversarially trained classifier for future use"
   ]
  },
  {
   "cell_type": "code",
   "execution_count": null,
   "id": "9cef45a1",
   "metadata": {},
   "outputs": [],
   "source": [
    "#classifier.save(\"/home/cyber/pdg_defended_model.h5\")"
   ]
  },
  {
   "cell_type": "markdown",
   "id": "811e0c71",
   "metadata": {},
   "source": [
    "Adversarial Training: Alternative method - Load an existing adversarially trained model"
   ]
  },
  {
   "cell_type": "code",
   "execution_count": null,
   "id": "c296cdf4",
   "metadata": {},
   "outputs": [],
   "source": [
    "# path = get_file('mnist_cnn_robust.h5', extract=False, path=config.ART_DATA_PATH,\n",
    "#                 url='https://www.dropbox.com/s/yutsncaniiy5uy8/mnist_cnn_robust.h5?dl=1')\n",
    "# robust_classifier_model = load_model(path)\n",
    "# robust_classifier = KerasClassifier(clip_values=(min_pixel_value, max_pixel_value), model=robust_classifier_model, use_logits=False)"
   ]
  },
  {
   "cell_type": "markdown",
   "id": "c5ce2574",
   "metadata": {},
   "source": [
    "Defence: Evaluation of effectiveness"
   ]
  },
  {
   "cell_type": "markdown",
   "id": "cb14e994",
   "metadata": {},
   "source": [
    "Step 1: Evaluate the defended model on the clean test set"
   ]
  },
  {
   "cell_type": "code",
   "execution_count": null,
   "id": "9e881ef8",
   "metadata": {},
   "outputs": [],
   "source": [
    "predictions = robust_classifier.predict(x_test)\n",
    "accuracy = np.sum(np.argmax(predictions, axis=1) == np.argmax(y_test, axis=1)) / len(y_test)\n",
    "print(\"Defended classifier\")\n",
    "print(\"Accuracy on benign test examples: {}%\".format(accuracy * 100))"
   ]
  },
  {
   "cell_type": "markdown",
   "id": "a5a4f471",
   "metadata": {},
   "source": [
    "Step 2: Evaluate the defended model on the original adversarial test set"
   ]
  },
  {
   "cell_type": "code",
   "execution_count": null,
   "id": "a12e9411",
   "metadata": {},
   "outputs": [],
   "source": [
    "predictions = robust_classifier.predict(x_test_adv)\n",
    "accuracy = np.sum(np.argmax(predictions, axis=1) == np.argmax(y_test, axis=1)) / len(y_test)\n",
    "print(\"Defended classifier\")\n",
    "print(\"Accuracy on original adversarial test examples: {}%\".format(accuracy * 100))"
   ]
  },
  {
   "cell_type": "markdown",
   "id": "21c139ca",
   "metadata": {},
   "source": [
    "Step 3: Evaluate the defended model on new adversarial examples produced on the defended model"
   ]
  },
  {
   "cell_type": "code",
   "execution_count": null,
   "id": "c9332e0a",
   "metadata": {},
   "outputs": [],
   "source": [
    "#adv_crafter = SaliencyMapMethod(classifier=robust_classifier, theta = 1, verbose=True)\n",
    "#adv_crafter = ProjectedGradientDescent(robust_classifier, eps=0.2)\n",
    "adv_crafter = FastGradientMethod(estimator=robust_classifier, eps=0.3)\n",
    "#adv_crafter = DeepFool(classifier=robust_classifier, epsilon=0.2)\n",
    "#adv_crafter = NewtonFool(classifier=robust_classifier, verbose=True)\n",
    "#adv_crafter = CarliniL2Method(classifier=robust_classifier, verbose=True)\n",
    "#adv_crafter = BasicIterativeMethod(robust_classifier, eps=0.3, eps_step=0.01, max_iter=40)\n",
    "\n",
    "x_test_adv_new = adv_crafter.generate(x_test)\n",
    "\n",
    "#The following line is for when a preprocessing defence is used\n",
    "#x_test_adv = defence(x_test_adv * 255)[0] / 255\n",
    "\n",
    "predictions = robust_classifier.predict(x_test_adv_new)\n",
    "accuracy = np.sum(np.argmax(predictions, axis=1) == np.argmax(y_test, axis=1)) / len(y_test)\n",
    "print(\"Defended classifier\")\n",
    "print(\"Accuracy on new adversarial test examples: {}%\".format(accuracy * 100))"
   ]
  },
  {
   "cell_type": "markdown",
   "id": "9076b47c",
   "metadata": {},
   "source": [
    "Optional step: Plot images, their original adversarial counterparts, and their new adversarial counterparts for reference"
   ]
  },
  {
   "cell_type": "code",
   "execution_count": null,
   "id": "5ff0c848",
   "metadata": {},
   "outputs": [],
   "source": [
    "num = 10\n",
    "images = x_test[:num]\n",
    "adv_examples_new = x_test_adv_new[:num]\n",
    "#labels = y_train[:num]\n",
    "\n",
    "#plot images\n",
    "plt.figure(figsize=(10, 10))\n",
    "\n",
    "for i in range(num):\n",
    "    ax = plt.subplot(6, 5, i + 1)\n",
    "    plt.imshow(images[i], cmap='gray')\n",
    "    plt.axis(\"off\")\n",
    "    ax = plt.subplot(6, 5, i + 11)\n",
    "    plt.imshow(adv_examples[i], cmap='gray')\n",
    "    plt.axis(\"off\")\n",
    "    ax = plt.subplot(6, 5, i + 21)\n",
    "    plt.imshow(adv_examples_new[i], cmap='gray')\n",
    "    plt.axis(\"off\")\n",
    "    \n",
    "    #plt.title('Label: {:}'.format(labels[i]))\n",
    "    #ax.set_title('Label: {}'.format(labels[i]))\n",
    " \n",
    "plt.tight_layout()\n",
    "plt.show()"
   ]
  },
  {
   "cell_type": "markdown",
   "id": "4791c630",
   "metadata": {},
   "source": [
    "Step 4: Compare the performance of the original and the robust classifier against FGSM over a range of eps values"
   ]
  },
  {
   "cell_type": "code",
   "execution_count": null,
   "id": "3831c36b",
   "metadata": {},
   "outputs": [],
   "source": [
    "eps_range = [0.01, 0.02, 0.03, 0.04, 0.05, 0.1, 0.2, 0.3, 0.4, 0.5, 0.6, 0.7, 0.8, 0.9]\n",
    "accuracy_original = []\n",
    "accuracy_robust = []\n",
    "\n",
    "adv_crafter = FastGradientMethod(classifier)\n",
    "adv_crafter_robust = FastGradientMethod(robust_classifier)\n",
    "\n",
    "for eps in eps_range:\n",
    "    adv_crafter.set_params(**{'eps': eps})\n",
    "    adv_crafter_robust.set_params(**{'eps': eps})\n",
    "    x_test_adv = adv_crafter.generate(x_test[:100])\n",
    "    x_test_adv_robust = adv_crafter_robust.generate(x_test[:100])\n",
    "    \n",
    "    predictions_original = np.argmax(classifier.predict(x_test_adv), axis=1)\n",
    "    accuracy_original += [np.sum(predictions_original == np.argmax(y_test[:100], axis=1))]\n",
    "    \n",
    "    predictions_robust = np.argmax(robust_classifier.predict(x_test_adv_robust), axis=1)\n",
    "    accuracy_robust += [np.sum(predictions_robust == np.argmax(y_test[:100], axis=1))]\n",
    "\n",
    "eps_range = eps_range"
   ]
  },
  {
   "cell_type": "code",
   "execution_count": null,
   "id": "0e8cbbd2",
   "metadata": {
    "scrolled": true
   },
   "outputs": [],
   "source": [
    "fig, ax = plt.subplots()\n",
    "ax.plot(np.array(eps_range), np.array(accuracy_original), 'b--', label='Original classifier')\n",
    "ax.plot(np.array(eps_range), np.array(accuracy_robust), 'r--', label='Robust classifier')\n",
    "\n",
    "legend = ax.legend(loc='upper right', shadow=True, fontsize='large')\n",
    "#legend.get_frame().set_facecolor('#00FFCC')\n",
    "\n",
    "plt.xlabel('Attack strength (eps)')\n",
    "plt.ylabel('Accuracy (%)')\n",
    "plt.show()"
   ]
  },
  {
   "cell_type": "markdown",
   "id": "ac7262ac",
   "metadata": {},
   "source": [
    "**Unused**"
   ]
  },
  {
   "cell_type": "code",
   "execution_count": 23,
   "id": "01566e64",
   "metadata": {},
   "outputs": [
    {
     "name": "stdout",
     "output_type": "stream",
     "text": [
      "Model: \"sequential_2\"\n",
      "_________________________________________________________________\n",
      "Layer (type)                 Output Shape              Param #   \n",
      "=================================================================\n",
      "conv2d_8 (Conv2D)            (None, 32, 32, 32)        896       \n",
      "_________________________________________________________________\n",
      "activation_12 (Activation)   (None, 32, 32, 32)        0         \n",
      "_________________________________________________________________\n",
      "conv2d_9 (Conv2D)            (None, 30, 30, 32)        9248      \n",
      "_________________________________________________________________\n",
      "activation_13 (Activation)   (None, 30, 30, 32)        0         \n",
      "_________________________________________________________________\n",
      "max_pooling2d_4 (MaxPooling2 (None, 15, 15, 32)        0         \n",
      "_________________________________________________________________\n",
      "dropout_6 (Dropout)          (None, 15, 15, 32)        0         \n",
      "_________________________________________________________________\n",
      "conv2d_10 (Conv2D)           (None, 15, 15, 64)        18496     \n",
      "_________________________________________________________________\n",
      "activation_14 (Activation)   (None, 15, 15, 64)        0         \n",
      "_________________________________________________________________\n",
      "conv2d_11 (Conv2D)           (None, 13, 13, 64)        36928     \n",
      "_________________________________________________________________\n",
      "activation_15 (Activation)   (None, 13, 13, 64)        0         \n",
      "_________________________________________________________________\n",
      "max_pooling2d_5 (MaxPooling2 (None, 6, 6, 64)          0         \n",
      "_________________________________________________________________\n",
      "dropout_7 (Dropout)          (None, 6, 6, 64)          0         \n",
      "_________________________________________________________________\n",
      "flatten_2 (Flatten)          (None, 2304)              0         \n",
      "_________________________________________________________________\n",
      "dense_4 (Dense)              (None, 512)               1180160   \n",
      "_________________________________________________________________\n",
      "activation_16 (Activation)   (None, 512)               0         \n",
      "_________________________________________________________________\n",
      "dropout_8 (Dropout)          (None, 512)               0         \n",
      "_________________________________________________________________\n",
      "dense_5 (Dense)              (None, 10)                5130      \n",
      "_________________________________________________________________\n",
      "activation_17 (Activation)   (None, 10)                0         \n",
      "=================================================================\n",
      "Total params: 1,250,858\n",
      "Trainable params: 1,250,858\n",
      "Non-trainable params: 0\n",
      "_________________________________________________________________\n"
     ]
    }
   ],
   "source": [
    "model = Sequential()\n",
    "model.add(Conv2D(32, (3, 3), padding=\"same\", input_shape=x_train.shape[1:]))\n",
    "model.add(Activation(\"relu\"))\n",
    "model.add(Conv2D(32, (3, 3)))\n",
    "model.add(Activation(\"relu\"))\n",
    "model.add(MaxPooling2D(pool_size=(2, 2)))\n",
    "model.add(Dropout(0.25))\n",
    "\n",
    "model.add(Conv2D(64, (3, 3), padding=\"same\"))\n",
    "model.add(Activation(\"relu\"))\n",
    "model.add(Conv2D(64, (3, 3)))\n",
    "model.add(Activation(\"relu\"))\n",
    "model.add(MaxPooling2D(pool_size=(2, 2)))\n",
    "model.add(Dropout(0.25))\n",
    "\n",
    "model.add(Flatten())\n",
    "model.add(Dense(512))\n",
    "model.add(Activation(\"relu\"))\n",
    "model.add(Dropout(0.5))\n",
    "model.add(Dense(10))\n",
    "model.add(Activation(\"softmax\"))\n",
    "\n",
    "model.summary()\n",
    "\n",
    "model.compile(loss=\"categorical_crossentropy\", optimizer=\"adam\", metrics=[\"accuracy\"])"
   ]
  },
  {
   "cell_type": "code",
   "execution_count": 24,
   "id": "d8617297",
   "metadata": {},
   "outputs": [
    {
     "name": "stdout",
     "output_type": "stream",
     "text": [
      "Model: \"sequential_3\"\n",
      "_________________________________________________________________\n",
      "Layer (type)                 Output Shape              Param #   \n",
      "=================================================================\n",
      "conv2d_12 (Conv2D)           (None, 30, 30, 32)        896       \n",
      "_________________________________________________________________\n",
      "max_pooling2d_6 (MaxPooling2 (None, 15, 15, 32)        0         \n",
      "_________________________________________________________________\n",
      "conv2d_13 (Conv2D)           (None, 13, 13, 64)        18496     \n",
      "_________________________________________________________________\n",
      "max_pooling2d_7 (MaxPooling2 (None, 6, 6, 64)          0         \n",
      "_________________________________________________________________\n",
      "conv2d_14 (Conv2D)           (None, 4, 4, 64)          36928     \n",
      "_________________________________________________________________\n",
      "flatten_3 (Flatten)          (None, 1024)              0         \n",
      "_________________________________________________________________\n",
      "dense_6 (Dense)              (None, 64)                65600     \n",
      "_________________________________________________________________\n",
      "dense_7 (Dense)              (None, 10)                650       \n",
      "=================================================================\n",
      "Total params: 122,570\n",
      "Trainable params: 122,570\n",
      "Non-trainable params: 0\n",
      "_________________________________________________________________\n"
     ]
    }
   ],
   "source": [
    "model = Sequential()\n",
    "model.add(Conv2D(32, (3, 3), activation='relu', input_shape=(32, 32, 3)))\n",
    "model.add(MaxPooling2D((2, 2)))\n",
    "model.add(Conv2D(64, (3, 3), activation='relu'))\n",
    "model.add(MaxPooling2D((2, 2)))\n",
    "model.add(Conv2D(64, (3, 3), activation='relu'))\n",
    "\n",
    "model.add(Flatten())\n",
    "model.add(Dense(64, activation='relu'))\n",
    "model.add(Dense(10))\n",
    "\n",
    "model.summary()\n",
    "\n",
    "model.compile(optimizer='adam',\n",
    "              loss=tf.keras.losses.SparseCategoricalCrossentropy(from_logits=True),\n",
    "              metrics=['accuracy'])"
   ]
  },
  {
   "cell_type": "code",
   "execution_count": 27,
   "id": "20c848a8",
   "metadata": {},
   "outputs": [],
   "source": [
    "def conv_net(x, keep_prob):\n",
    "    conv1_filter = tf.Variable(tf.truncated_normal(shape=[3, 3, 3, 64], mean=0, stddev=0.08))\n",
    "    conv2_filter = tf.Variable(tf.truncated_normal(shape=[3, 3, 64, 128], mean=0, stddev=0.08))\n",
    "    conv3_filter = tf.Variable(tf.truncated_normal(shape=[5, 5, 128, 256], mean=0, stddev=0.08))\n",
    "    conv4_filter = tf.Variable(tf.truncated_normal(shape=[5, 5, 256, 512], mean=0, stddev=0.08))\n",
    "\n",
    "    # 1, 2\n",
    "    conv1 = tf.nn.conv2d(x, conv1_filter, strides=[1,1,1,1], padding='SAME')\n",
    "    conv1 = tf.nn.relu(conv1)\n",
    "    conv1_pool = tf.nn.max_pool(conv1, ksize=[1,2,2,1], strides=[1,2,2,1], padding='SAME')\n",
    "    conv1_bn = tf.layers.batch_normalization(conv1_pool)\n",
    "\n",
    "    # 3, 4\n",
    "    conv2 = tf.nn.conv2d(conv1_bn, conv2_filter, strides=[1,1,1,1], padding='SAME')\n",
    "    conv2 = tf.nn.relu(conv2)\n",
    "    conv2_pool = tf.nn.max_pool(conv2, ksize=[1,2,2,1], strides=[1,2,2,1], padding='SAME')    \n",
    "    conv2_bn = tf.layers.batch_normalization(conv2_pool)\n",
    "  \n",
    "    # 5, 6\n",
    "    conv3 = tf.nn.conv2d(conv2_bn, conv3_filter, strides=[1,1,1,1], padding='SAME')\n",
    "    conv3 = tf.nn.relu(conv3)\n",
    "    conv3_pool = tf.nn.max_pool(conv3, ksize=[1,2,2,1], strides=[1,2,2,1], padding='SAME')  \n",
    "    conv3_bn = tf.layers.batch_normalization(conv3_pool)\n",
    "    \n",
    "    # 7, 8\n",
    "    conv4 = tf.nn.conv2d(conv3_bn, conv4_filter, strides=[1,1,1,1], padding='SAME')\n",
    "    conv4 = tf.nn.relu(conv4)\n",
    "    conv4_pool = tf.nn.max_pool(conv4, ksize=[1,2,2,1], strides=[1,2,2,1], padding='SAME')\n",
    "    conv4_bn = tf.layers.batch_normalization(conv4_pool)\n",
    "    \n",
    "    # 9\n",
    "    flat = tf.contrib.layers.flatten(conv4_bn)  \n",
    "\n",
    "    # 10\n",
    "    full1 = tf.contrib.layers.fully_connected(inputs=flat, num_outputs=128, activation_fn=tf.nn.relu)\n",
    "    full1 = tf.nn.dropout(full1, keep_prob)\n",
    "    full1 = tf.layers.batch_normalization(full1)\n",
    "    \n",
    "    # 11\n",
    "    full2 = tf.contrib.layers.fully_connected(inputs=full1, num_outputs=256, activation_fn=tf.nn.relu)\n",
    "    full2 = tf.nn.dropout(full2, keep_prob)\n",
    "    full2 = tf.layers.batch_normalization(full2)\n",
    "    \n",
    "    # 12\n",
    "    full3 = tf.contrib.layers.fully_connected(inputs=full2, num_outputs=512, activation_fn=tf.nn.relu)\n",
    "    full3 = tf.nn.dropout(full3, keep_prob)\n",
    "    full3 = tf.layers.batch_normalization(full3)    \n",
    "    \n",
    "    # 13\n",
    "    full4 = tf.contrib.layers.fully_connected(inputs=full3, num_outputs=1024, activation_fn=tf.nn.relu)\n",
    "    full4 = tf.nn.dropout(full4, keep_prob)\n",
    "    full4 = tf.layers.batch_normalization(full4)        \n",
    "    \n",
    "    # 14\n",
    "    out = tf.contrib.layers.fully_connected(inputs=full4, num_outputs=10, activation_fn=None)\n",
    "    return out"
   ]
  },
  {
   "cell_type": "code",
   "execution_count": null,
   "id": "58fedde8",
   "metadata": {},
   "outputs": [],
   "source": [
    "epochs = 10\n",
    "batch_size = 128\n",
    "keep_probability = 0.7\n",
    "learning_rate = 0.001"
   ]
  }
 ],
 "metadata": {
  "kernelspec": {
   "display_name": "Python 3",
   "language": "python",
   "name": "python3"
  },
  "language_info": {
   "codemirror_mode": {
    "name": "ipython",
    "version": 3
   },
   "file_extension": ".py",
   "mimetype": "text/x-python",
   "name": "python",
   "nbconvert_exporter": "python",
   "pygments_lexer": "ipython3",
   "version": "3.7.10"
  }
 },
 "nbformat": 4,
 "nbformat_minor": 5
}
